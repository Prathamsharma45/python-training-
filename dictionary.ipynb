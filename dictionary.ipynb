{
 "cells": [
  {
   "cell_type": "code",
   "execution_count": 5,
   "id": "d2d76a05",
   "metadata": {},
   "outputs": [],
   "source": [
    "    ############Dictionary###################\n",
    "# This script demonstrates how to create a dictionary in Python\n",
    "# and how to access its elements.       \n",
    "# A dictionary is a collection of key-value pairs.\n",
    "# Each key is unique and is used to access its corresponding value.\n",
    "# Example of a dictionaryk\n",
    "\n",
    "# keys are unique and immutable types, such as strings, numbers, or tuples.\n",
    "#key can be of any immutable type, such as strings, numbers, or tuples.\n",
    "#but  values can be of any type, including lists, sets, or other dictionaries.\n"
   ]
  },
  {
   "cell_type": "code",
   "execution_count": 7,
   "id": "1b8b8665",
   "metadata": {},
   "outputs": [
    {
     "name": "stdout",
     "output_type": "stream",
     "text": [
      "dict_items([('harry', 12), ('shubham', 14), (' rohit', 56), (0, 'harry')])\n",
      "dict_keys(['harry', 'shubham', ' rohit', 0])\n",
      "{'harry': 59, 'shubham': 14, ' rohit': 56, 0: 'harry'}\n"
     ]
    }
   ],
   "source": [
    "marks={\n",
    "    \"harry\":12,\n",
    "    \"shubham\":14,\n",
    "   \" rohit\":56,\n",
    "   0:\"harry\"\n",
    "\n",
    "}\n",
    "print(marks.items())\n",
    "print(marks.keys())\n",
    "marks.update({\"harry\":59})\n",
    "print(marks)"
   ]
  },
  {
   "cell_type": "code",
   "execution_count": 52,
   "id": "8a15f6ab",
   "metadata": {},
   "outputs": [
    {
     "name": "stdout",
     "output_type": "stream",
     "text": [
      "dict_items([('harry', 12), ('shubham', 14), (' rohit', 56), (0, 'harri')])\n",
      "dict_keys(['harry', 'shubham', ' rohit', 0])\n",
      "{'harry': 46, 'shubham': 14, ' rohit': 56, 0: 'harri'}\n"
     ]
    }
   ],
   "source": [
    "marks={\n",
    "    \"harry\":12, \n",
    "    \"shubham\":14,\n",
    "    \" rohit\":56,\n",
    "    0:\"harri\"\n",
    "      }\n",
    "print(marks.items())\n",
    "print(marks.keys())\n",
    "marks.update({\"harry\":46})   # Accessing value using key\n",
    "print(marks)"
   ]
  },
  {
   "cell_type": "code",
   "execution_count": 53,
   "id": "2b8290fe",
   "metadata": {},
   "outputs": [
    {
     "name": "stdout",
     "output_type": "stream",
     "text": [
      "{1: 1, 2: 1, 3: 1, 4: 1, 5: 1, 6: 1, 7: 1, 8: 1, 9: 1, 10: 1}\n"
     ]
    }
   ],
   "source": [
    "x=[1,2,3,4,5,6,7,8,9,10]\n",
    "d={}\n",
    "for i in x:\n",
    "    d[i]=x.count(i)\n",
    "print(d)"
   ]
  },
  {
   "cell_type": "code",
   "execution_count": 65,
   "id": "73de86c9",
   "metadata": {},
   "outputs": [
    {
     "name": "stdout",
     "output_type": "stream",
     "text": [
      "{}\n"
     ]
    }
   ],
   "source": [
    "d={'name': 'Alice', 'age': 30, 'city': 'New York' }\n",
    "#print(d.pop('name'))\n",
    "del d['name'] # Remove the key 'name'\n",
    "d.clear()\n",
    "print(d)  # Output: {'age': 30, 'city': 'New York\n"
   ]
  },
  {
   "cell_type": "code",
   "execution_count": 67,
   "id": "ce7b3446",
   "metadata": {},
   "outputs": [
    {
     "name": "stdout",
     "output_type": "stream",
     "text": [
      "[3, 4, 5, 15, 7]\n",
      "[3, 4, 5, 15, 7]\n"
     ]
    }
   ],
   "source": [
    "x=[3,4,5,6,7]\n",
    "y=x\n",
    "x[3]=14\n",
    "y[3]=15\n",
    "print(x)  # Output: [3, 4, 5, 6, 7]\n",
    "print(y)  # Output: [3, 4, 5, 6,"
   ]
  },
  {
   "cell_type": "code",
   "execution_count": 74,
   "id": "32df61c7",
   "metadata": {},
   "outputs": [
    {
     "name": "stdout",
     "output_type": "stream",
     "text": [
      "<built-in method keys of dict object at 0x0000012B7382EE80>\n",
      "dict_values([0, 0, 0])\n",
      "dict_items([('math', 0), ('science', 0), ('english', 0)])\n",
      "{'math': 0, 'science': 0, 'english': 0}\n"
     ]
    }
   ],
   "source": [
    "subjects = {}.fromkeys(['math', 'science', 'english'],0)\n",
    "print(subjects.keys)  # Output: {'math': 0, 'science': 0\n",
    "print(subjects.values())  # Output: {'math': 0, 'science': 0, 'english': 0} \n",
    "print(subjects.items())  # Output: {'math': 0, 'science': 0, 'english': 0}\n",
    "print(subjects)"
   ]
  },
  {
   "cell_type": "code",
   "execution_count": 87,
   "id": "f5950501",
   "metadata": {},
   "outputs": [
    {
     "name": "stdout",
     "output_type": "stream",
     "text": [
      "{3: 2, 4: 8, 5: 9, 6: 10, 7: 11}\n",
      "{3: 2, 4: 13, 5: 9, 6: 10, 7: 11}\n",
      "{3: 2, 4: 13, 5: 4, 6: 10, 7: 11}\n",
      "{3: 2, 4: 13, 5: 4, 6: 15, 7: 11}\n",
      "{3: 2, 4: 13, 5: 4, 6: 15, 7: 6}\n"
     ]
    }
   ],
   "source": [
    "x={3:7, 4:8, 5:9, 6:10, 7:11}\n",
    "for key, value in x.items():\n",
    "    if value%2 == 0:\n",
    "        x[key]+=5\n",
    "    else:\n",
    "        x[key]-=5\n",
    "    print(x)    \n",
    "\n"
   ]
  },
  {
   "cell_type": "code",
   "execution_count": 103,
   "id": "83711882",
   "metadata": {},
   "outputs": [
    {
     "name": "stdout",
     "output_type": "stream",
     "text": [
      "{2: [43, 3, 4, 9], 3: [79, 8, 6, 5], 4: [15, 59, 47, 8]}\n"
     ]
    }
   ],
   "source": [
    "x={2:[42,2,3,8],3:[78,7,5,4],4:[14,58,46,7]}\n",
    "for k,v in x.items():\n",
    " x[k]=[i+1 for i in v]\n",
    "print(x)\n",
    "\n"
   ]
  },
  {
   "cell_type": "code",
   "execution_count": null,
   "id": "a9651141",
   "metadata": {},
   "outputs": [
    {
     "ename": "IndentationError",
     "evalue": "expected an indented block after 'for' statement on line 2 (55133101.py, line 3)",
     "output_type": "error",
     "traceback": [
      "  \u001b[36mCell\u001b[39m\u001b[36m \u001b[39m\u001b[32mIn[106]\u001b[39m\u001b[32m, line 3\u001b[39m\n\u001b[31m    \u001b[39m\u001b[31md[k]=[i+1 for i in v]\u001b[39m\n    ^\n\u001b[31mIndentationError\u001b[39m\u001b[31m:\u001b[39m expected an indented block after 'for' statement on line 2\n"
     ]
    }
   ],
   "source": [
    "d={'a':1,'b':2,'c':3,'d':4,'e':5}\n",
    "d1={k+\"c\"}\n",
    "\n",
    "print(d)"
   ]
  }
 ],
 "metadata": {
  "kernelspec": {
   "display_name": "Python 3",
   "language": "python",
   "name": "python3"
  },
  "language_info": {
   "codemirror_mode": {
    "name": "ipython",
    "version": 3
   },
   "file_extension": ".py",
   "mimetype": "text/x-python",
   "name": "python",
   "nbconvert_exporter": "python",
   "pygments_lexer": "ipython3",
   "version": "3.13.2"
  }
 },
 "nbformat": 4,
 "nbformat_minor": 5
}
