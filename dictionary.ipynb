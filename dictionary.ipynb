{
 "cells": [
  {
   "cell_type": "code",
   "execution_count": null,
   "id": "d2d76a05",
   "metadata": {},
   "outputs": [],
   "source": [
    "    ############Dictionary###################\n",
    "# This script demonstrates how to create a dictionary in Python\n",
    "# and how to access its elements.       \n",
    "# A dictionary is a collection of key-value pairs.\n",
    "# Each key is unique and is used to access its corresponding value.\n",
    "# Example of a dictionary\n"
   ]
  }
 ],
 "metadata": {
  "kernelspec": {
   "display_name": "Python 3",
   "language": "python",
   "name": "python3"
  },
  "language_info": {
   "codemirror_mode": {
    "name": "ipython",
    "version": 3
   },
   "file_extension": ".py",
   "mimetype": "text/x-python",
   "name": "python",
   "nbconvert_exporter": "python",
   "pygments_lexer": "ipython3",
   "version": "3.13.2"
  }
 },
 "nbformat": 4,
 "nbformat_minor": 5
}
