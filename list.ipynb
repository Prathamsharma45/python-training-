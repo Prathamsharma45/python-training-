{
 "cells": [
  {
   "cell_type": "code",
   "execution_count": null,
   "id": "c8b9a536",
   "metadata": {},
   "outputs": [],
   "source": [
    "                                              #*******List********#\n",
    "#list is a curd operation \n",
    "#list is mutable \n",
    "#list is ordered\n",
    "#list is iterable   \n",
    "#list is dynamic\n",
    "#list is heterogeneous\n",
    "#list is a collection of items\n"
   ]
  },
  {
   "cell_type": "code",
   "execution_count": 19,
   "id": "6ac6ab63",
   "metadata": {},
   "outputs": [
    {
     "data": {
      "text/plain": [
       "[10, 25, 56, 78, 'pratham', 'hello']"
      ]
     },
     "execution_count": 19,
     "metadata": {},
     "output_type": "execute_result"
    }
   ],
   "source": [
    "x=[10,25,56,78,\"pratham\",\"hello\"]\n",
    "list(x)\n"
   ]
  },
  {
   "cell_type": "code",
   "execution_count": 65,
   "id": "d1564171",
   "metadata": {},
   "outputs": [
    {
     "name": "stdout",
     "output_type": "stream",
     "text": [
      "[60]\n",
      "[10, 20, 30, 40, 50, 60, 70, 80, 34, 56, 98, 12]\n",
      "[10, 20, 30, 40, 50, 60, 70, 80, 34, 56, 98, 12]\n",
      "[12, 98, 56, 34, 80, 70, 60, 50, 40, 30, 20, 10]\n"
     ]
    }
   ],
   "source": [
    "number=[10,20,30,40,50,60,70,80,34,56,98,12]\n",
    "print(number[5:6:])  # slicing\n",
    "print(number[:])    # slicing\n",
    "print(number[::1])  # slicing\n",
    "print(number[::-1])  # slicing"
   ]
  },
  {
   "cell_type": "code",
   "execution_count": 66,
   "id": "71ae8d96",
   "metadata": {},
   "outputs": [
    {
     "name": "stdout",
     "output_type": "stream",
     "text": [
      "['apple', 'banana', 'mango']\n"
     ]
    }
   ],
   "source": [
    "friuts=[\"apple\",\"banana\",\"mango\",\"orange\"]\n",
    "print(friuts[0:3])  # slicing\n"
   ]
  },
  {
   "cell_type": "code",
   "execution_count": 68,
   "id": "197f12ad",
   "metadata": {},
   "outputs": [
    {
     "name": "stdout",
     "output_type": "stream",
     "text": [
      "['apple', 'banana', 'mango', 'watermelon']\n"
     ]
    }
   ],
   "source": [
    "friuts[3]=\"watermelon\"\n",
    "print(friuts)"
   ]
  },
  {
   "cell_type": "code",
   "execution_count": null,
   "id": "689b66e9",
   "metadata": {},
   "outputs": [
    {
     "name": "stdout",
     "output_type": "stream",
     "text": [
      "['apple', 'banana', 'mango', 'kiwi', 'watermelon']\n"
     ]
    }
   ],
   "source": [
    "friuts.insert (3,\"kiwi\")#insert method\n",
    "print(friuts)"
   ]
  },
  {
   "cell_type": "code",
   "execution_count": null,
   "id": "ce1607fa",
   "metadata": {},
   "outputs": [
    {
     "name": "stdout",
     "output_type": "stream",
     "text": [
      "['apple', 'banana', 'mango', 'kiwi', 'watermelon', 'grapes']\n"
     ]
    }
   ],
   "source": [
    "friuts.append(\"grapes\")#append method\n",
    "print(friuts)"
   ]
  },
  {
   "cell_type": "code",
   "execution_count": 76,
   "id": "3dadcc8f",
   "metadata": {},
   "outputs": [
    {
     "name": "stdout",
     "output_type": "stream",
     "text": [
      "[60, 70, 80, 10, 20, [30, 40], 50]\n"
     ]
    }
   ],
   "source": [
    "list1=[10,20,[30,40],50]\n",
    "list2=[60,70,80]\n",
    "list2.extend(list1)  # extend method\n",
    "print(list2)    "
   ]
  },
  {
   "cell_type": "code",
   "execution_count": 78,
   "id": "e61773c3",
   "metadata": {},
   "outputs": [
    {
     "name": "stdout",
     "output_type": "stream",
     "text": [
      "[10, 20, [30, 40], 50]\n"
     ]
    }
   ],
   "source": [
    "list1=[10,20,[30,40],50]\n",
    "list2=[60,70,80]\n",
    "list2.append(list2)  # extend method\n",
    "print(list1)  "
   ]
  },
  {
   "cell_type": "code",
   "execution_count": null,
   "id": "183f1260",
   "metadata": {},
   "outputs": [
    {
     "name": "stdout",
     "output_type": "stream",
     "text": [
      "[10, 20, 40, 50]\n"
     ]
    }
   ],
   "source": [
    "lst=[10,20,30,40,50]\n",
    "lst.remove(30)  # remove method and it will remove the first occurrence of the value\n",
    "print(lst)  "
   ]
  },
  {
   "cell_type": "code",
   "execution_count": 5,
   "id": "82499239",
   "metadata": {},
   "outputs": [
    {
     "name": "stdout",
     "output_type": "stream",
     "text": [
      "[10, 20, 30, 50]\n"
     ]
    }
   ],
   "source": [
    "lst=[10,20,30,40,50]\n",
    "del lst[3] # delete method\n",
    "print(lst)"
   ]
  },
  {
   "cell_type": "code",
   "execution_count": 11,
   "id": "2045ef84",
   "metadata": {},
   "outputs": [
    {
     "name": "stdout",
     "output_type": "stream",
     "text": [
      "[10, 20, 40, 50]\n",
      "30\n"
     ]
    }
   ],
   "source": [
    "#pop method\n",
    "lst=[10,20,30,40,50]        \n",
    "a=lst.pop(2) # pop method\n",
    "print(lst)\n",
    "print(a)"
   ]
  },
  {
   "cell_type": "markdown",
   "id": "f90ede66",
   "metadata": {},
   "source": []
  },
  {
   "cell_type": "code",
   "execution_count": 81,
   "id": "b42de98f",
   "metadata": {},
   "outputs": [
    {
     "name": "stdout",
     "output_type": "stream",
     "text": [
      "Even count: 4\n",
      "Odd count: 6\n"
     ]
    }
   ],
   "source": [
    "#wap which will print the count of even and odd numbers in a list\n",
    "x = [1, 3, 5, 2, 7, 9, 12, 88, 50, 11]\n",
    "even_count = 0      \n",
    "odd_count = 0   \n",
    "for i in x:\n",
    "    if i % 2 == 0:\n",
    "        even_count += 1\n",
    "    else:\n",
    "        odd_count += 1\n",
    "print(\"Even count:\", even_count)\n",
    "print(\"Odd count:\", odd_count)  "
   ]
  },
  {
   "cell_type": "code",
   "execution_count": 1,
   "id": "cfe086ee",
   "metadata": {},
   "outputs": [
    {
     "name": "stdout",
     "output_type": "stream",
     "text": [
      "Even count: 0\n",
      "Odd count: 5\n",
      "Even count: 0\n",
      "Odd count: 10\n",
      "Even count: 0\n",
      "Odd count: 15\n",
      "Even count: even\n",
      "Odd count: 20\n",
      "Even count: even\n",
      "Odd count: 25\n",
      "Even count: even\n",
      "Odd count: 30\n"
     ]
    }
   ],
   "source": [
    "x = [1, 3, 5, 2, 7, 9, 12, 88, 50, 11]\n",
    "even_count = 0  \n",
    "odd_count = 0\n",
    "for i in x: \n",
    "\n",
    "    if i % 2 == 0:\n",
    "        even_count=\"even\"\n",
    "    else:\n",
    "        odd_count+=5\n",
    "        print(\"Even count:\", even_count)\n",
    "        print(\"Odd count:\", odd_count)  "
   ]
  },
  {
   "cell_type": "code",
   "execution_count": null,
   "id": "c7071909",
   "metadata": {},
   "outputs": [],
   "source": []
  }
 ],
 "metadata": {
  "kernelspec": {
   "display_name": "Python 3",
   "language": "python",
   "name": "python3"
  },
  "language_info": {
   "codemirror_mode": {
    "name": "ipython",
    "version": 3
   },
   "file_extension": ".py",
   "mimetype": "text/x-python",
   "name": "python",
   "nbconvert_exporter": "python",
   "pygments_lexer": "ipython3",
   "version": "3.13.2"
  }
 },
 "nbformat": 4,
 "nbformat_minor": 5
}
