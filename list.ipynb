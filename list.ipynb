{
 "cells": [
  {
   "cell_type": "code",
   "execution_count": null,
   "id": "c8b9a536",
   "metadata": {},
   "outputs": [],
   "source": [
    "                                              #*******List********#\n",
    "#list is a curd operation \n",
    "#list is mutable \n",
    "#list is ordered\n",
    "#list is iterable   \n",
    "#list is dynamic\n",
    "#list is heterogeneous\n",
    "#list is a collection of items\n"
   ]
  },
  {
   "cell_type": "code",
   "execution_count": 19,
   "id": "6ac6ab63",
   "metadata": {},
   "outputs": [
    {
     "data": {
      "text/plain": [
       "[10, 25, 56, 78, 'pratham', 'hello']"
      ]
     },
     "execution_count": 19,
     "metadata": {},
     "output_type": "execute_result"
    }
   ],
   "source": [
    "x=[10,25,56,78,\"pratham\",\"hello\"]\n",
    "list(x)\n"
   ]
  },
  {
   "cell_type": "code",
   "execution_count": 65,
   "id": "d1564171",
   "metadata": {},
   "outputs": [
    {
     "name": "stdout",
     "output_type": "stream",
     "text": [
      "[60]\n",
      "[10, 20, 30, 40, 50, 60, 70, 80, 34, 56, 98, 12]\n",
      "[10, 20, 30, 40, 50, 60, 70, 80, 34, 56, 98, 12]\n",
      "[12, 98, 56, 34, 80, 70, 60, 50, 40, 30, 20, 10]\n"
     ]
    }
   ],
   "source": [
    "number=[10,20,30,40,50,60,70,80,34,56,98,12]\n",
    "print(number[5:6:])  # slicing\n",
    "print(number[:])    # slicing\n",
    "print(number[::1])  # slicing\n",
    "print(number[::-1])  # slicing"
   ]
  },
  {
   "cell_type": "code",
   "execution_count": 66,
   "id": "71ae8d96",
   "metadata": {},
   "outputs": [
    {
     "name": "stdout",
     "output_type": "stream",
     "text": [
      "['apple', 'banana', 'mango']\n"
     ]
    }
   ],
   "source": [
    "friuts=[\"apple\",\"banana\",\"mango\",\"orange\"]\n",
    "print(friuts[0:3])  # slicing\n"
   ]
  },
  {
   "cell_type": "code",
   "execution_count": 68,
   "id": "197f12ad",
   "metadata": {},
   "outputs": [
    {
     "name": "stdout",
     "output_type": "stream",
     "text": [
      "['apple', 'banana', 'mango', 'watermelon']\n"
     ]
    }
   ],
   "source": [
    "friuts[3]=\"watermelon\"\n",
    "print(friuts)"
   ]
  },
  {
   "cell_type": "code",
   "execution_count": null,
   "id": "689b66e9",
   "metadata": {},
   "outputs": [
    {
     "name": "stdout",
     "output_type": "stream",
     "text": [
      "['apple', 'banana', 'mango', 'kiwi', 'watermelon']\n"
     ]
    }
   ],
   "source": [
    "friuts.insert (3,\"kiwi\")#insert method\n",
    "print(friuts)"
   ]
  },
  {
   "cell_type": "code",
   "execution_count": null,
   "id": "ce1607fa",
   "metadata": {},
   "outputs": [
    {
     "name": "stdout",
     "output_type": "stream",
     "text": [
      "['apple', 'banana', 'mango', 'kiwi', 'watermelon', 'grapes']\n"
     ]
    }
   ],
   "source": [
    "friuts.append(\"grapes\")#append method\n",
    "print(friuts)"
   ]
  },
  {
   "cell_type": "code",
   "execution_count": 76,
   "id": "3dadcc8f",
   "metadata": {},
   "outputs": [
    {
     "name": "stdout",
     "output_type": "stream",
     "text": [
      "[60, 70, 80, 10, 20, [30, 40], 50]\n"
     ]
    }
   ],
   "source": [
    "list1=[10,20,[30,40],50]\n",
    "list2=[60,70,80]\n",
    "list2.extend(list1)  # extend method\n",
    "print(list2)    "
   ]
  },
  {
   "cell_type": "code",
   "execution_count": 78,
   "id": "e61773c3",
   "metadata": {},
   "outputs": [
    {
     "name": "stdout",
     "output_type": "stream",
     "text": [
      "[10, 20, [30, 40], 50]\n"
     ]
    }
   ],
   "source": [
    "list1=[10,20,[30,40],50]\n",
    "list2=[60,70,80]\n",
    "list2.append(list2)  # extend method\n",
    "print(list1)  "
   ]
  },
  {
   "cell_type": "code",
   "execution_count": null,
   "id": "183f1260",
   "metadata": {},
   "outputs": [
    {
     "name": "stdout",
     "output_type": "stream",
     "text": [
      "[10, 20, 40, 50]\n"
     ]
    }
   ],
   "source": [
    "lst=[10,20,30,40,50]\n",
    "lst.remove(30)  # remove method and it will remove the first occurrence of the value\n",
    "print(lst)  "
   ]
  },
  {
   "cell_type": "code",
   "execution_count": 5,
   "id": "82499239",
   "metadata": {},
   "outputs": [
    {
     "name": "stdout",
     "output_type": "stream",
     "text": [
      "[10, 20, 30, 50]\n"
     ]
    }
   ],
   "source": [
    "lst=[10,20,30,40,50]\n",
    "del lst[3] # delete method\n",
    "print(lst)"
   ]
  },
  {
   "cell_type": "code",
   "execution_count": 11,
   "id": "2045ef84",
   "metadata": {},
   "outputs": [
    {
     "name": "stdout",
     "output_type": "stream",
     "text": [
      "[10, 20, 40, 50]\n",
      "30\n"
     ]
    }
   ],
   "source": [
    "#pop method\n",
    "lst=[10,20,30,40,50]        \n",
    "a=lst.pop(2) # pop method\n",
    "print(lst)\n",
    "print(a)"
   ]
  },
  {
   "cell_type": "code",
   "execution_count": 12,
   "id": "b2569c65",
   "metadata": {},
   "outputs": [
    {
     "name": "stdout",
     "output_type": "stream",
     "text": [
      "1\n"
     ]
    }
   ],
   "source": [
    "lst=[10,20,30,40,50]\n",
    "count=lst.count(20)  # count method\n",
    "print(count)  # it will count the number of occurrences of the value in the list"
   ]
  },
  {
   "cell_type": "code",
   "execution_count": 17,
   "id": "934fbeaf",
   "metadata": {},
   "outputs": [
    {
     "name": "stdout",
     "output_type": "stream",
     "text": [
      "0\n"
     ]
    }
   ],
   "source": [
    "lst=[10,20,30,40,50] # index method\n",
    "print(lst.index(10))  # it will return the index of the value in the list"
   ]
  },
  {
   "cell_type": "code",
   "execution_count": 34,
   "id": "dd4f3503",
   "metadata": {},
   "outputs": [
    {
     "name": "stdout",
     "output_type": "stream",
     "text": [
      "[5, 3, 9, 7, 8, 2, 15, 11, 14, 12]\n"
     ]
    }
   ],
   "source": [
    "lst=[3,5,7,9,2,8,11,15,12,14]\n",
    "for i in range(0,len(lst),2):\n",
    "    lst[i],lst[i+1]=lst[i+1],lst[i]  # swapping the elements of the list\n",
    "print(lst)\n",
    "   "
   ]
  },
  {
   "cell_type": "code",
   "execution_count": 74,
   "id": "c50f6f68",
   "metadata": {},
   "outputs": [
    {
     "name": "stdout",
     "output_type": "stream",
     "text": [
      "43000\n",
      "500\n",
      "15\n"
     ]
    }
   ],
   "source": [
    "lst=[3,500,7,9,2,8000,11,43000,12,14,15]\n",
    "max_value=lst[0]\n",
    "second_max_value=lst[1]\n",
    "third_max_value=lst[2]\n",
    "for i in lst:\n",
    "    if i>max_value:\n",
    "        max_value=i \n",
    "    elif i>second_max_value and i!=max_value:\n",
    "        second_max_value=i\n",
    "\n",
    "    elif i>third_max_value and i!=max_value and i!=second_max_value:\n",
    "        third_max_value=i\n",
    "\n",
    "print(max_value)  # it will print the maximum value in the list\n",
    "print(second_max_value)  # it will print the second maximum value in the list\n",
    "print(third_max_value)  # it will print the third maximum value in the list"
   ]
  },
  {
   "cell_type": "code",
   "execution_count": 79,
   "id": "11c3be2f",
   "metadata": {},
   "outputs": [
    {
     "ename": "IndentationError",
     "evalue": "unexpected indent (590119578.py, line 2)",
     "output_type": "error",
     "traceback": [
      "  \u001b[36mCell\u001b[39m\u001b[36m \u001b[39m\u001b[32mIn[79]\u001b[39m\u001b[32m, line 2\u001b[39m\n\u001b[31m    \u001b[39m\u001b[31mif lst[0]>lst[1]:\u001b[39m\n    ^\n\u001b[31mIndentationError\u001b[39m\u001b[31m:\u001b[39m unexpected indent\n"
     ]
    }
   ],
   "source": [
    "lst=[3,5,7,9,2,8,11,43,12,14,15]\n",
    " if lst[0]>lst[1]:\n",
    "    max1=lst[0]\n",
    "    max2=lst[1]\n",
    " else\n",
    "    max1=lst[1]\n",
    "    max2=lst[0]\n",
    " for i in range(0,len(lst)3)\n",
    " if  lst[i]>max1:  \n",
    "    max2=max1\n",
    "    max1=lst[i]\n",
    " elif lst[i]>max2:\n",
    "    max1=max2\n",
    "    max2=lst[i]\n",
    "    print(max1)\n",
    "    print(max2)\n",
    "  \n",
    "\n",
    "   \n",
    "\n"
   ]
  },
  {
   "cell_type": "code",
   "execution_count": 90,
   "id": "b448e1e4",
   "metadata": {},
   "outputs": [
    {
     "name": "stdout",
     "output_type": "stream",
     "text": [
      "[11]\n",
      "[11]\n",
      "[11]\n",
      "[12, 11]\n",
      "[11, 12]\n",
      "[15, 12, 11]\n",
      "[11, 12, 15]\n",
      "[20, 15, 12, 11]\n",
      "[11, 12, 15, 20]\n",
      "[20, 15, 12, 11]\n",
      "[25, 11, 12, 15, 20]\n"
     ]
    }
   ],
   "source": [
    "lst=[25,3,2,20,8,15,6,12,10,9,11]\n",
    "lst.reverse()\n",
    "lst1=[lst[0]]\n",
    "temp=lst[0]\n",
    "for i in lst:\n",
    "    if i>temp:\n",
    "        temp=i\n",
    "        lst1.append(i)\n",
    "    lst1.reverse()\n",
    "    print(lst1)\n",
    "\n"
   ]
  },
  {
   "cell_type": "code",
   "execution_count": 6,
   "id": "b4d1622a",
   "metadata": {},
   "outputs": [
    {
     "name": "stdout",
     "output_type": "stream",
     "text": [
      "[625, 9, 4, 400, 64, 225, 36, 144, 100, 81, 121]\n"
     ]
    }
   ],
   "source": [
    "lst=[25,3,2,20,8,15,6,12,10,9,11]#square\n",
    "lst1=[] \n",
    "\n",
    "for i in lst:\n",
    "    lst1.append(i**2)  # squaring the elements of the list  \n",
    "print(lst1)  # it will print the squared elements of the list\n"
   ]
  },
  {
   "cell_type": "code",
   "execution_count": 8,
   "id": "206142ec",
   "metadata": {},
   "outputs": [
    {
     "name": "stdout",
     "output_type": "stream",
     "text": [
      "[15625]\n",
      "[15625, 27]\n",
      "[15625, 27, 8]\n",
      "[15625, 27, 8, 8000]\n",
      "[15625, 27, 8, 8000, 512]\n",
      "[15625, 27, 8, 8000, 512, 3375]\n",
      "[15625, 27, 8, 8000, 512, 3375, 216]\n",
      "[15625, 27, 8, 8000, 512, 3375, 216, 1728]\n",
      "[15625, 27, 8, 8000, 512, 3375, 216, 1728, 1000]\n",
      "[15625, 27, 8, 8000, 512, 3375, 216, 1728, 1000, 729]\n",
      "[15625, 27, 8, 8000, 512, 3375, 216, 1728, 1000, 729, 1331]\n"
     ]
    }
   ],
   "source": [
    "lst=[25,3,2,20,8,15,6,12,10,9,11]#cube\n",
    "lst1=[]\n",
    "\n",
    "\n",
    "for i in lst:\n",
    "    lst1.append(i**3)\n",
    "    print(lst1)  # it will print the cubed elements of the list"
   ]
  },
  {
   "cell_type": "code",
   "execution_count": 19,
   "id": "6ea9526e",
   "metadata": {},
   "outputs": [
    {
     "name": "stdout",
     "output_type": "stream",
     "text": [
      "['odd', 'odd', 'even', 'even', 'even', 'odd', 'even', 'even', 'even', 'odd', 'odd']\n"
     ]
    }
   ],
   "source": [
    "lst = [25, -3, 2,- 20, 8, -15, 6, 12, -10, 9, 11]\n",
    "lst1 = [\"even\" if i % 2 == 0 else \"odd\" for i in lst]  # list comprehension to check even or odd\n",
    "print(lst1)  # it will print the even or odd elements of the list   \n",
    "    "
   ]
  },
  {
   "cell_type": "code",
   "execution_count": 34,
   "id": "dd92fceb",
   "metadata": {},
   "outputs": [
    {
     "name": "stdout",
     "output_type": "stream",
     "text": [
      "['positive', 'negative', 'positive', 'negative', 'positive', 'negative', 'positive', 'positive', 'negative', 'positive', 'positive']\n"
     ]
    }
   ],
   "source": [
    "lst = [25, -3, 2,- 20, 8, -15, 6, 12, -10, 9, 11]\n",
    "lst1=[\"positive\" if i > 0 else \"negative\" for i in lst]  # list comprehension to check positive or negative\n",
    "print(lst1)  # it will print the positive or negative elements of the list  \n",
    "\n",
    "\n",
    "\n"
   ]
  },
  {
   "cell_type": "code",
   "execution_count": 42,
   "id": "9860df91",
   "metadata": {},
   "outputs": [
    {
     "name": "stdout",
     "output_type": "stream",
     "text": [
      "[9, 9, 8, 8]\n"
     ]
    }
   ],
   "source": [
    "lst=[[3,5,7,9],[8,2,5,9],[7,3,5,8],[8,3,2]]\n",
    "lst1=[max(i) for i in lst]  # list comprehension to get the first element of each sublist\n",
    "print(lst1)  # it will print the first element of each sublist in the list"
   ]
  },
  {
   "cell_type": "code",
   "execution_count": 5,
   "id": "802cc59e",
   "metadata": {},
   "outputs": [],
   "source": [
    "lst=[[3,5,7,9],[8,2,5,9],[7,3,5,8],[8,3,2]]#add odd value\n",
    "lst1=[]\n",
    "for i in lst:\n",
    "     sum =0\n",
    "     for j in i:\n",
    "         if j % 2 != 0:\n",
    "             sum+=j\n",
    "     lst1.append(lst)\n",
    "    "
   ]
  },
  {
   "cell_type": "code",
   "execution_count": 7,
   "id": "35e58e7d",
   "metadata": {},
   "outputs": [
    {
     "name": "stdout",
     "output_type": "stream",
     "text": [
      "[[3, 5, 7, 9], [8, 2, 5, 9], [7, 3, 5, 8], [8, 3, 2, 6]]\n",
      "[[8, 5, 5, 9], [3, 2, 7, 9], [8, 3, 2, 8], [7, 3, 5, 6]]\n"
     ]
    }
   ],
   "source": [
    "list = [[3,5,7,9],[8,2,5,9],[7,3,5,8],[8,3,2,6]]\n",
    "\n",
    "print(list)\n",
    "for i in range(0,len(list),2):\n",
    "    for j in range(0,len(list[i])):\n",
    "        if j%2 == 0:     \n",
    "            temp = list[i][j]\n",
    "            list[i][j]=list[i+1][j]\n",
    "            list[i+1][j]=temp\n",
    "print(list)"
   ]
  },
  {
   "cell_type": "markdown",
   "id": "f90ede66",
   "metadata": {},
   "source": []
  },
  {
   "cell_type": "code",
   "execution_count": 81,
   "id": "b42de98f",
   "metadata": {},
   "outputs": [
    {
     "name": "stdout",
     "output_type": "stream",
     "text": [
      "Even count: 4\n",
      "Odd count: 6\n"
     ]
    }
   ],
   "source": [
    "#wap which will print the count of even and odd numbers in a list\n",
    "x = [1, 3, 5, 2, 7, 9, 12, 88, 50, 11]\n",
    "even_count = 0      \n",
    "odd_count = 0   \n",
    "for i in x:\n",
    "    if i % 2 == 0:\n",
    "        even_count += 1\n",
    "    else:\n",
    "        odd_count += 1\n",
    "print(\"Even count:\", even_count)\n",
    "print(\"Odd count:\", odd_count)  "
   ]
  },
  {
   "cell_type": "code",
   "execution_count": 1,
   "id": "cfe086ee",
   "metadata": {},
   "outputs": [
    {
     "name": "stdout",
     "output_type": "stream",
     "text": [
      "Even count: 0\n",
      "Odd count: 5\n",
      "Even count: 0\n",
      "Odd count: 10\n",
      "Even count: 0\n",
      "Odd count: 15\n",
      "Even count: even\n",
      "Odd count: 20\n",
      "Even count: even\n",
      "Odd count: 25\n",
      "Even count: even\n",
      "Odd count: 30\n"
     ]
    }
   ],
   "source": [
    "x = [1, 3, 5, 2, 7, 9, 12, 88, 50, 11]\n",
    "even_count = 0  \n",
    "odd_count = 0\n",
    "for i in x: \n",
    "\n",
    "    if i % 2 == 0:\n",
    "        even_count=\"even\"\n",
    "    else:\n",
    "        odd_count+=5\n",
    "        print(\"Even count:\", even_count)\n",
    "        print(\"Odd count:\", odd_count)  "
   ]
  },
  {
   "cell_type": "code",
   "execution_count": null,
   "id": "c7071909",
   "metadata": {},
   "outputs": [],
   "source": []
  }
 ],
 "metadata": {
  "kernelspec": {
   "display_name": "Python 3",
   "language": "python",
   "name": "python3"
  },
  "language_info": {
   "codemirror_mode": {
    "name": "ipython",
    "version": 3
   },
   "file_extension": ".py",
   "mimetype": "text/x-python",
   "name": "python",
   "nbconvert_exporter": "python",
   "pygments_lexer": "ipython3",
   "version": "3.13.2"
  }
 },
 "nbformat": 4,
 "nbformat_minor": 5
}
