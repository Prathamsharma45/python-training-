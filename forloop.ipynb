{
 "cells": [
  {
   "cell_type": "code",
   "execution_count": null,
   "id": "d629d569",
   "metadata": {},
   "outputs": [
    {
     "ename": "IndentationError",
     "evalue": "expected an indented block after 'if' statement on line 6 (1035392011.py, line 7)",
     "output_type": "error",
     "traceback": [
      "  \u001b[36mCell\u001b[39m\u001b[36m \u001b[39m\u001b[32mIn[8]\u001b[39m\u001b[32m, line 7\u001b[39m\n\u001b[31m    \u001b[39m\u001b[31mprint(\"The LCM is:\",i)\u001b[39m\n    ^\n\u001b[31mIndentationError\u001b[39m\u001b[31m:\u001b[39m expected an indented block after 'if' statement on line 6\n"
     ]
    }
   ],
   "source": [
    "#calculatevthe lcm of both the number using for loop\n",
    "num1 = int(input(\"Enter first number: \"))  \n",
    "num2 = int(input(\"Enter second number: \"))\n",
    "\n",
    "for i in range (num1,num1*num2+1):\n",
    "    if i%num1==0 and i%num2==0:\n",
    "      print(\"The LCM is\",i)\n",
    "    break\n"
   ]
  },
  {
   "cell_type": "code",
   "execution_count": 19,
   "id": "35df649a",
   "metadata": {},
   "outputs": [
    {
     "name": "stdout",
     "output_type": "stream",
     "text": [
      "10\n",
      "21\n",
      "33\n",
      "46\n",
      "60\n",
      "76\n",
      "93\n",
      "111\n",
      "130\n",
      "150\n",
      "171\n",
      "193\n",
      "216\n",
      "240\n",
      "265\n",
      "291\n",
      "318\n",
      "346\n",
      "375\n",
      "406\n",
      "438\n",
      "471\n",
      "505\n",
      "540\n",
      "576\n",
      "613\n",
      "651\n",
      "690\n",
      "730\n",
      "771\n",
      "813\n",
      "856\n",
      "900\n",
      "946\n",
      "993\n",
      "1041\n",
      "1090\n"
     ]
    }
   ],
   "source": [
    "sum=0\n",
    "for i in range(10,50):\n",
    "  if i%3!=0 or i%5!=0:\n",
    "    sum+=i\n",
    "    print(sum)\n",
    "    "
   ]
  },
  {
   "cell_type": "code",
   "execution_count": 22,
   "id": "32147410",
   "metadata": {},
   "outputs": [
    {
     "name": "stdout",
     "output_type": "stream",
     "text": [
      "10\n",
      "11\n",
      "12\n",
      "13\n",
      "14\n",
      "16\n",
      "17\n",
      "18\n",
      "19\n",
      "20\n",
      "21\n",
      "22\n",
      "23\n",
      "24\n",
      "25\n",
      "26\n",
      "27\n",
      "28\n",
      "29\n",
      "31\n",
      "32\n",
      "33\n",
      "34\n",
      "35\n",
      "36\n",
      "37\n",
      "38\n",
      "39\n",
      "40\n",
      "41\n",
      "42\n",
      "43\n",
      "44\n",
      "46\n",
      "47\n",
      "48\n",
      "49\n"
     ]
    }
   ],
   "source": [
    "#wap to which will add 10 to 55 but it will skip 3 and 5 divisible\n",
    "sum=0\n",
    "for i in range(10,50):\n",
    "  if i%3==0 and i%5==0:\n",
    "    continue\n",
    "  else:\n",
    "    sum=+i\n",
    "    print(sum)\n",
    "  \n"
   ]
  },
  {
   "cell_type": "code",
   "execution_count": 8,
   "id": "f962e05c",
   "metadata": {},
   "outputs": [
    {
     "name": "stdout",
     "output_type": "stream",
     "text": [
      "even 1 odd 1\n"
     ]
    }
   ],
   "source": [
    "n=int(input())\n",
    "\n",
    "even=1\n",
    "odd=1\n",
    "for i in range(1,n+1):\n",
    "    if  n%i==0 and i%2==0:\n",
    "      even*=i\n",
    "    elif n%i==0 and i%2!=0:\n",
    "      odd*=i \n",
    "      print(\"even\",even,\"odd\",odd)\n"
   ]
  }
 ],
 "metadata": {
  "kernelspec": {
   "display_name": "Python 3",
   "language": "python",
   "name": "python3"
  },
  "language_info": {
   "codemirror_mode": {
    "name": "ipython",
    "version": 3
   },
   "file_extension": ".py",
   "mimetype": "text/x-python",
   "name": "python",
   "nbconvert_exporter": "python",
   "pygments_lexer": "ipython3",
   "version": "3.13.2"
  }
 },
 "nbformat": 4,
 "nbformat_minor": 5
}
