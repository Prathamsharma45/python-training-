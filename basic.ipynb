{
 "cells": [
  {
   "cell_type": "code",
   "execution_count": 23,
   "id": "0ff0aebb",
   "metadata": {},
   "outputs": [
    {
     "name": "stdout",
     "output_type": "stream",
     "text": [
      "child\n"
     ]
    }
   ],
   "source": [
    "#Wap a program to \n",
    "age=eval(input(\"Enter your age: \"))\n",
    "if age <=12:\n",
    "    print(\"child\")\n",
    "elif age <= 19:\n",
    "    print(\"teenager\")\n",
    "elif age <= 45:\n",
    "    print(\"adult\")\n",
    "else:\n",
    "    print(\"senior citizen\")"
   ]
  },
  {
   "cell_type": "code",
   "execution_count": 8,
   "id": "8aef221d",
   "metadata": {},
   "outputs": [
    {
     "name": "stdout",
     "output_type": "stream",
     "text": [
      "2 4 6\n"
     ]
    }
   ],
   "source": [
    "a=eval(input(\"enter the number\"))\n",
    "b=eval(input(\"enter the number\"))\n",
    "c=eval(input(\"enter the number\"))\n",
    "if a<b and b<c:\n",
    "    print(a,b,c)    \n",
    "elif b<c and c<a:\n",
    "    print(b,c,a)\n",
    "elif a<c and c<b:\n",
    "    print(a,c,b)\n",
    "elif b<a and a<c:\n",
    "    print(b,a,c)\n",
    "elif c<a and a<b:\n",
    "    print(c,a,b)\n",
    "else:\n",
    "    print(c,b,a)\n",
    "\n"
   ]
  },
  {
   "cell_type": "code",
   "execution_count": 8,
   "id": "e7d405c5",
   "metadata": {},
   "outputs": [
    {
     "name": "stdout",
     "output_type": "stream",
     "text": [
      "buzz\n"
     ]
    }
   ],
   "source": [
    "num=eval(input(\"enter the number\"))\n",
    "if num%3 and num%5:\n",
    "    print(\"fizzbuzz\")\n",
    "elif num%3:\n",
    "    print(\"fizz\")\n",
    "elif num%5 :\n",
    "    print(\"buzz\")\n",
    "else:\n",
    "    print(num)  "
   ]
  },
  {
   "cell_type": "code",
   "execution_count": 2,
   "id": "0936536e",
   "metadata": {},
   "outputs": [
    {
     "name": "stdout",
     "output_type": "stream",
     "text": [
      "The number is positive\n"
     ]
    }
   ],
   "source": [
    "number=eval(input(\"Enter a number: \"))\n",
    "if(number>0):\n",
    "    print(\"The number is positive\")\n",
    "elif(number==0):\n",
    "    print(\"The number is zero\")\n",
    "else:\n",
    "    print(\"The number is negative\")"
   ]
  },
  {
   "cell_type": "code",
   "execution_count": 8,
   "id": "95e43565",
   "metadata": {},
   "outputs": [
    {
     "name": "stdout",
     "output_type": "stream",
     "text": [
      "You are eligible to vote.\n"
     ]
    }
   ],
   "source": [
    "age=eval(input(\"Enter your age: \"))\n",
    "if age >= 18:\n",
    "    print(\"You are eligible to vote.\")\n",
    "else:\n",
    "    print(\"You are not eligible to vote.\")"
   ]
  },
  {
   "cell_type": "code",
   "execution_count": null,
   "id": "82e820a1",
   "metadata": {},
   "outputs": [
    {
     "name": "stdout",
     "output_type": "stream",
     "text": [
      "Area of triangle is 20.0\n"
     ]
    }
   ],
   "source": [
    "base=eval(input(\"Enter the base of triangle: \"))\n",
    "height=eval(input(\"Enter the height of triangle: \"))\n",
    "print(\"Area of triangle is\", 0.5 * base * height)"
   ]
  },
  {
   "cell_type": "code",
   "execution_count": null,
   "id": "9610afaa",
   "metadata": {},
   "outputs": [],
   "source": []
  },
  {
   "cell_type": "code",
   "execution_count": 6,
   "id": "35bf1409",
   "metadata": {},
   "outputs": [
    {
     "name": "stdout",
     "output_type": "stream",
     "text": [
      "area of square is 16\n",
      "perimeter of square is 16\n"
     ]
    }
   ],
   "source": [
    "#wap program which will take length and width an input and calculate area of squre\n",
    "side=eval(input(\"enter the area sqare  \" ))\n",
    "print(\"area of square is\", side * side)\n",
    "print(\"perimeter of square is\", 4 * side)"
   ]
  },
  {
   "cell_type": "code",
   "execution_count": 5,
   "id": "172a7dfa",
   "metadata": {},
   "outputs": [
    {
     "name": "stdout",
     "output_type": "stream",
     "text": [
      "Area of rectangle is 875\n",
      "Perimeter of rectangle is 120\n"
     ]
    }
   ],
   "source": [
    "#wap which wil take length and width an input and calute area of rectanglelength\n",
    "length = eval(input(\"Enter the length of rectangle: \"))\n",
    "width = eval(input(\"Enter the width of rectangle: \"))\n",
    "print(\"Area of rectangle is\", length * width)\n",
    "print(\"Perimeter of rectangle is\", 2 * (length + width))"
   ]
  },
  {
   "cell_type": "code",
   "execution_count": null,
   "id": "fad17e1d",
   "metadata": {},
   "outputs": [],
   "source": [
    "name=eval(input(\"Enter your name: \"))\n",
    "age=eval(input(\"Enter your age: \"))\n",
    "height=eval(input(\"Enter your height: \"))\n",
    "print(\"my name is\",name)\n",
    "print(\"my age is \",age)\n",
    "print(\"my height is \",height)"
   ]
  },
  {
   "cell_type": "code",
   "execution_count": 3,
   "id": "c72cf467",
   "metadata": {},
   "outputs": [
    {
     "name": "stdout",
     "output_type": "stream",
     "text": [
      "my name is pratham \n",
      "my age is  18\n",
      "my height is  6.5\n"
     ]
    }
   ],
   "source": [
    "name=(input(\"Enter your name: \"))\n",
    "age=int(input(\"Enter your age: \"))\n",
    "height=float(input(\"Enter your height: \"))\n",
    "print(\"my name is\",name)\n",
    "print(\"my age is \",age)\n",
    "print(\"my height is \",height)"
   ]
  },
  {
   "cell_type": "code",
   "execution_count": 4,
   "id": "4bf31d94",
   "metadata": {},
   "outputs": [
    {
     "name": "stdout",
     "output_type": "stream",
     "text": [
      "140726256927784 140726256927848 140726256927784\n",
      "140726256927784 2447355998784 140726256927784\n"
     ]
    }
   ],
   "source": [
    "x=5\n",
    "y=7\n",
    "z=5\n",
    "print (id(x),id(y), id(z))\n",
    "y=\"hello\"\n",
    "print (id(x),id(y), id(z))\n"
   ]
  },
  {
   "cell_type": "code",
   "execution_count": 1,
   "id": "30f8665c",
   "metadata": {},
   "outputs": [
    {
     "name": "stdout",
     "output_type": "stream",
     "text": [
      "hello world\n"
     ]
    }
   ],
   "source": [
    "print(\"hello world\")"
   ]
  }
 ],
 "metadata": {
  "kernelspec": {
   "display_name": "Python 3",
   "language": "python",
   "name": "python3"
  },
  "language_info": {
   "codemirror_mode": {
    "name": "ipython",
    "version": 3
   },
   "file_extension": ".py",
   "mimetype": "text/x-python",
   "name": "python",
   "nbconvert_exporter": "python",
   "pygments_lexer": "ipython3",
   "version": "3.13.2"
  }
 },
 "nbformat": 4,
 "nbformat_minor": 5
}
