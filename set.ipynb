{
 "cells": [
  {
   "cell_type": "code",
   "execution_count": 12,
   "id": "32dddcf8",
   "metadata": {},
   "outputs": [
    {
     "name": "stdout",
     "output_type": "stream",
     "text": [
      "{1, 2, 3, 4, 5}\n",
      "<class 'set'>\n"
     ]
    }
   ],
   "source": [
    "#Set\n",
    "#set is mutable\n",
    "#it is unordered collection of unique elements\n",
    "##it is defined by curly brackets\n",
    "#it is used to store multiple items in a single variable\n",
    "s = {1, 2, 3, 4, 5}\n",
    "print(s) \n",
    "print(type(s)) # Output: {1, 2, 3, 4,"
   ]
  },
  {
   "cell_type": "code",
   "execution_count": null,
   "id": "936496ef",
   "metadata": {},
   "outputs": [
    {
     "name": "stdout",
     "output_type": "stream",
     "text": [
      "{1, 2, 3, 4, 5, 6, 9}\n",
      "{1, 2, 3, 4, 5, 6, 7, 9}\n",
      "{1, 2, 3, 4, 5, 6, 7, 8, 9}\n",
      "{1, 2, 3, 4, 5, 6, 7, 8}\n",
      "{1, 2, 3, 4, 6, 7, 8}\n"
     ]
    }
   ],
   "source": [
    "st= {1, 2, 3, 4, 5,9}\n",
    "st.add(6)\n",
    "print(st) \n",
    "\n",
    "st.add(7)\n",
    "print(st)  \n",
    "st.update([8, 9])\n",
    "print(st) \n",
    "st.remove(9)\n",
    "print(st)   \n",
    "st.discard(5)\n",
    "print(st)\n",
    "\n",
    "  # Output: set() (empty set)"
   ]
  },
  {
   "cell_type": "code",
   "execution_count": null,
   "id": "e9dbeffe",
   "metadata": {},
   "outputs": [
    {
     "name": "stdout",
     "output_type": "stream",
     "text": [
      "Unique: {'gqcl', \"Let's\", 'bcghk', 'Everyone', 'Python', 'Hello', 'Learn', 'cdhhdvjg'}\n",
      "unique: 8\n"
     ]
    }
   ],
   "source": [
    "#wap to check unique words in a string\n",
    "str1 = \"Hello Everyone Let's Learn Python  bcghk    gqcl\"\n",
    "words = str1.split()\n",
    "unique_words = set(words)   \n",
    "print(\"Unique:\", unique_words)  # Output: Unique words: {'Hello', 'Everyone', \"Let's\", 'Learn', 'Python'}\n",
    "unique_words = len(unique_words)\n",
    "print(\"unique:\", unique_words)  # Output: Length of unique"
   ]
  },
  {
   "cell_type": "code",
   "execution_count": 34,
   "id": "c8d411ec",
   "metadata": {},
   "outputs": [
    {
     "name": "stdout",
     "output_type": "stream",
     "text": [
      "7\n"
     ]
    }
   ],
   "source": [
    "\n",
    "str1 = \"Hello Everyone Let's Learn Python  bcghk    gqcl\"\n",
    "print(len(set(str1.split())))  # Output: Length of the string"
   ]
  },
  {
   "cell_type": "code",
   "execution_count": 41,
   "id": "bce91f61",
   "metadata": {},
   "outputs": [
    {
     "name": "stdout",
     "output_type": "stream",
     "text": [
      "['hello', 'everyone', \"let's\", 'learn', 'python']\n"
     ]
    }
   ],
   "source": [
    "x=\"hello  everyone everyone let's learn learn  python\"\n",
    "x=x.split()\n",
    "lst = []\n",
    "for i in x:\n",
    "    if i not in lst:\n",
    "        lst.append(i)\n",
    "        x=\" \".join(lst)\n",
    "print(lst)  # Output: ['hello', 'everyone', \"let's\", 'learn', 'python']"
   ]
  },
  {
   "cell_type": "code",
   "execution_count": 1,
   "id": "f69b5634",
   "metadata": {},
   "outputs": [
    {
     "name": "stdout",
     "output_type": "stream",
     "text": [
      "frozenset({1, 2, 3, 4, 5})\n"
     ]
    }
   ],
   "source": [
    "s= {1, 2, 3, 4, 5}\n",
    "s=frozenset(s)  # Convert to frozenset\n",
    "print(s)  # Output: frozenset({1, 2, 3,"
   ]
  },
  {
   "cell_type": "code",
   "execution_count": 7,
   "id": "7bccb3a3",
   "metadata": {},
   "outputs": [
    {
     "name": "stdout",
     "output_type": "stream",
     "text": [
      "{1, 2, 3, 4, 5, 6, 9, 56}\n",
      "{1, 2, 3, 4, 5}\n",
      "{56, 9}\n",
      "{6}\n",
      "{6, 56, 9}\n"
     ]
    }
   ],
   "source": [
    "s= {1, 2, 3, 4, 5,9,56}\n",
    "s1={1, 2, 3, 4, 5, 6}\n",
    "print(s.union(s1))  # Output: {1, 2, 3, 4, 5, 6}\n",
    "print(s.intersection(s1))  # Output: {1, 2, 3\n",
    "print(s-s1)  \n",
    "print(s1-s)# Output: set() (empty set)\n",
    "print(s.symmetric_difference(s1))  # Output: {6, 9, 56}"
   ]
  }
 ],
 "metadata": {
  "kernelspec": {
   "display_name": "Python 3",
   "language": "python",
   "name": "python3"
  },
  "language_info": {
   "codemirror_mode": {
    "name": "ipython",
    "version": 3
   },
   "file_extension": ".py",
   "mimetype": "text/x-python",
   "name": "python",
   "nbconvert_exporter": "python",
   "pygments_lexer": "ipython3",
   "version": "3.13.2"
  }
 },
 "nbformat": 4,
 "nbformat_minor": 5
}
