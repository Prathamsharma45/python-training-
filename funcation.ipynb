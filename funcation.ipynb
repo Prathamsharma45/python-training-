{
 "cells": [
  {
   "cell_type": "code",
   "execution_count": null,
   "id": "b2b6f0e7",
   "metadata": {},
   "outputs": [],
   "source": [
    "#funcation is is empty it will give none \n"
   ]
  },
  {
   "cell_type": "code",
   "execution_count": 2,
   "id": "821fbf4e",
   "metadata": {},
   "outputs": [
    {
     "name": "stdout",
     "output_type": "stream",
     "text": [
      "60.666666666666664\n",
      "thanku\n",
      "35.666666666666664\n"
     ]
    }
   ],
   "source": [
    "def avg():\n",
    "  n = int(input('enter num')) \n",
    "  m = int(input('enter number'))\n",
    "  o = int(input('enter number'))\n",
    "\n",
    "  average=(n + m + o)/3\n",
    "  print(average)\n",
    "\n",
    "avg()\n",
    "print('thanku')\n",
    "avg()"
   ]
  },
  {
   "cell_type": "code",
   "execution_count": 1,
   "id": "0e22df56",
   "metadata": {},
   "outputs": [
    {
     "name": "stdout",
     "output_type": "stream",
     "text": [
      "hello pratham sir \n",
      "hi\n",
      "hello pratham sir \n"
     ]
    }
   ],
   "source": [
    "def goodday():\n",
    "    print(\"hello pratham sir \")\n",
    "goodday()\n",
    "print('hi')\n",
    "goodday()\n"
   ]
  },
  {
   "cell_type": "code",
   "execution_count": null,
   "id": "2d7945a5",
   "metadata": {},
   "outputs": [],
   "source": []
  },
  {
   "cell_type": "code",
   "execution_count": 13,
   "id": "f284b8ee",
   "metadata": {},
   "outputs": [
    {
     "ename": "SyntaxError",
     "evalue": "invalid syntax (1609306168.py, line 3)",
     "output_type": "error",
     "traceback": [
      "  \u001b[36mCell\u001b[39m\u001b[36m \u001b[39m\u001b[32mIn[13]\u001b[39m\u001b[32m, line 3\u001b[39m\n\u001b[31m    \u001b[39m\u001b[31mfor in range (1,n+1):\u001b[39m\n        ^\n\u001b[31mSyntaxError\u001b[39m\u001b[31m:\u001b[39m invalid syntax\n"
     ]
    }
   ],
   "source": [
    "def fact(n):\n",
    "      temp=1\n",
    "      for in range (1,n+1):\n",
    "            temp=temp*i\n",
    "      return temp\n",
    "a=int(input('enter a' ))\n",
    "b=int(input('enter b'))\n",
    "a_fact=fact(a)\n",
    "b_fact=fact(b)\n",
    "a_min_b=fact(a-b)\n",
    "ans=a_fact/b_fact*a_min_b\n",
    "print()\n"
   ]
  },
  {
   "cell_type": "code",
   "execution_count": 16,
   "id": "90a95a56",
   "metadata": {},
   "outputs": [
    {
     "name": "stdout",
     "output_type": "stream",
     "text": [
      "Answer: 244289792693302931339574482485301536459731616557052863800611058415975609651277367851751116743393720721891379077540748590565353891918380421363092823354662781724291407122766752008712000\n"
     ]
    }
   ],
   "source": [
    "def fact(n):\n",
    "    temp = 1\n",
    "    for i in range(1, n + 1):\n",
    "        temp *= i\n",
    "    return temp\n",
    "\n",
    "a = int(input('Enter a: '))\n",
    "b = int(input('Enter b: '))\n",
    "\n",
    "a_fact = fact(a)\n",
    "b_fact = fact(b)\n",
    "a_min_b_fact = fact(a - b)\n",
    "\n",
    "# This calculates \"a choose b\", or C(a, b)\n",
    "ans = a_fact // (b_fact * a_min_b_fact)\n",
    "\n",
    "print(f\"Answer: {ans}\")\n"
   ]
  },
  {
   "cell_type": "code",
   "execution_count": 10,
   "id": "e90cde65",
   "metadata": {},
   "outputs": [
    {
     "ename": "IndentationError",
     "evalue": "unindent does not match any outer indentation level (<string>, line 6)",
     "output_type": "error",
     "traceback": [
      "  \u001b[36mFile \u001b[39m\u001b[32m<string>:6\u001b[39m\n\u001b[31m    \u001b[39m\u001b[31mreturn temp\u001b[39m\n               ^\n\u001b[31mIndentationError\u001b[39m\u001b[31m:\u001b[39m unindent does not match any outer indentation level\n"
     ]
    }
   ],
   "source": [
    "\n",
    "def prime(x):\n",
    "    temp=0\n",
    "    for i in x:\n",
    "        if(i==2 or i==3 or i==5 or i==7):\n",
    "            temp+=i\n",
    " return temp\n",
    "\n",
    "x=[3,2,5,7,9,2,5,8,3,7,9,3,5]\n",
    "print(prime(x))\n",
    "\n",
    "\n",
    "      \n"
   ]
  },
  {
   "cell_type": "code",
   "execution_count": 8,
   "id": "e65edc56",
   "metadata": {},
   "outputs": [
    {
     "name": "stdout",
     "output_type": "stream",
     "text": [
      "your name and id  prathamsk67\n",
      "your age is 12\n"
     ]
    }
   ],
   "source": [
    "def info(name ,age,id):\n",
    "    print(\"your name and id \",name + id)\n",
    "    print(\"your age is\",age)\n",
    "info(name='pratham',age=12,id=\"sk67\")\n"
   ]
  },
  {
   "cell_type": "code",
   "execution_count": 20,
   "id": "1e3eae59",
   "metadata": {},
   "outputs": [
    {
     "name": "stdout",
     "output_type": "stream",
     "text": [
      "52\n",
      "17\n"
     ]
    }
   ],
   "source": [
    "def add(* temp):\n",
    "   x=0\n",
    "   for i in temp:\n",
    "      x+=i\n",
    "   print(x)\n",
    "add(5,9,8,25,5)\n",
    "add(8,9)\n",
    "    "
   ]
  },
  {
   "cell_type": "code",
   "execution_count": 22,
   "id": "392a12a0",
   "metadata": {},
   "outputs": [
    {
     "name": "stdout",
     "output_type": "stream",
     "text": [
      "125\n"
     ]
    }
   ],
   "source": [
    "fun=lambda x:x**3\n",
    "print(fun(5))"
   ]
  },
  {
   "cell_type": "code",
   "execution_count": 23,
   "id": "459d7ca5",
   "metadata": {},
   "outputs": [
    {
     "name": "stdout",
     "output_type": "stream",
     "text": [
      "4\n"
     ]
    }
   ],
   "source": [
    "print((lambda x:x**2)(2))"
   ]
  },
  {
   "cell_type": "code",
   "execution_count": 27,
   "id": "1495d165",
   "metadata": {},
   "outputs": [
    {
     "name": "stdout",
     "output_type": "stream",
     "text": [
      "even\n"
     ]
    }
   ],
   "source": [
    "fun = lambda x: \"even\" if x % 2 == 0 else \"odd\"\n",
    "print(fun(30))"
   ]
  },
  {
   "cell_type": "code",
   "execution_count": 43,
   "id": "d72415ce",
   "metadata": {},
   "outputs": [
    {
     "name": "stdout",
     "output_type": "stream",
     "text": [
      "prime\n"
     ]
    }
   ],
   "source": [
    "n = int(input(\"enter the no\"))\n",
    "fun = lambda n: \"NOT PRIME\" if n %2==0  else \"prime\"\n",
    "print(fun(n))\n",
    "\n"
   ]
  },
  {
   "cell_type": "code",
   "execution_count": 49,
   "id": "a4f9c685",
   "metadata": {},
   "outputs": [
    {
     "name": "stdout",
     "output_type": "stream",
     "text": [
      "[1, 4, 9, 16, 25, 36, 49]\n"
     ]
    }
   ],
   "source": [
    "x=[1,2,3,4,5,6,7]\n",
    "l=list(map(lambda x:x**2,x))\n",
    "print(l)"
   ]
  },
  {
   "cell_type": "code",
   "execution_count": 2,
   "id": "30819202",
   "metadata": {},
   "outputs": [
    {
     "name": "stdout",
     "output_type": "stream",
     "text": [
      "[4.90625, 32.556776000000006, 68.773536, 376.49385, 1741.4518500000004, 452.16]\n"
     ]
    }
   ],
   "source": [
    "lst = [1.25,3.22,4.68,10.95,23.55,12]\n",
    "\n",
    "x = list(map(lambda x : 3.14*x**2,lst))\n",
    "print(x) "
   ]
  },
  {
   "cell_type": "code",
   "execution_count": 3,
   "id": "998e365c",
   "metadata": {},
   "outputs": [
    {
     "name": "stdout",
     "output_type": "stream",
     "text": [
      "[5, 7, 3, 4]\n"
     ]
    }
   ],
   "source": [
    "lst=[\"hello\",\"pratham\",\"raj\",\"tilu\"]\n",
    "x=list(map(lambda x:len(x),lst))\n",
    "print(x)"
   ]
  },
  {
   "cell_type": "code",
   "execution_count": 5,
   "id": "678ed5c2",
   "metadata": {},
   "outputs": [
    {
     "name": "stdout",
     "output_type": "stream",
     "text": [
      "[6, 8, 9, 65, 78]\n"
     ]
    }
   ],
   "source": [
    "#filter\n",
    "lst=[2,4,6,8,9,1,65,78,]\n",
    "var=list(filter(lambda x:x>4,lst))\n",
    "print(var)\n"
   ]
  },
  {
   "cell_type": "code",
   "execution_count": 7,
   "id": "73a25035",
   "metadata": {},
   "outputs": [
    {
     "name": "stdout",
     "output_type": "stream",
     "text": [
      "['apple', 'aunthousim']\n"
     ]
    }
   ],
   "source": [
    "s=[\"apple\",\"aunthousim\",\"log\"]\n",
    "v=list(filter (lambda x:x[0]==\"a\"or x[0]==\"A\",s))\n",
    "print(v)"
   ]
  },
  {
   "cell_type": "code",
   "execution_count": 16,
   "id": "7a3df34c",
   "metadata": {},
   "outputs": [
    {
     "name": "stdout",
     "output_type": "stream",
     "text": [
      "35\n"
     ]
    }
   ],
   "source": [
    "from functools import reduce\n",
    "l=[2,3,4,5,6,7,8]\n",
    "y=reduce(lambda x,y:x+y,l)\n",
    "print(y)"
   ]
  },
  {
   "cell_type": "code",
   "execution_count": 22,
   "id": "837d972b",
   "metadata": {},
   "outputs": [
    {
     "ename": "SyntaxError",
     "evalue": "expected 'else' after 'if' expression (3093466128.py, line 2)",
     "output_type": "error",
     "traceback": [
      "  \u001b[36mCell\u001b[39m\u001b[36m \u001b[39m\u001b[32mIn[22]\u001b[39m\u001b[32m, line 2\u001b[39m\n\u001b[31m    \u001b[39m\u001b[31my=reduce(lambda x,y:x if x>y\"max\",else ,l)\u001b[39m\n                        ^\n\u001b[31mSyntaxError\u001b[39m\u001b[31m:\u001b[39m expected 'else' after 'if' expression\n"
     ]
    }
   ],
   "source": [
    "l=[2,3,4,5,7,8]\n",
    "y=reduce(lambda x,y:x if x>y\"max\",else ,l) \n",
    "print(y)"
   ]
  }
 ],
 "metadata": {
  "kernelspec": {
   "display_name": "Python 3",
   "language": "python",
   "name": "python3"
  },
  "language_info": {
   "codemirror_mode": {
    "name": "ipython",
    "version": 3
   },
   "file_extension": ".py",
   "mimetype": "text/x-python",
   "name": "python",
   "nbconvert_exporter": "python",
   "pygments_lexer": "ipython3",
   "version": "3.13.2"
  }
 },
 "nbformat": 4,
 "nbformat_minor": 5
}
