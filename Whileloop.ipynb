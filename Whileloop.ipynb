{
 "cells": [
  {
   "cell_type": "code",
   "execution_count": 1,
   "id": "edd8c5dd",
   "metadata": {},
   "outputs": [
    {
     "name": "stdout",
     "output_type": "stream",
     "text": [
      "1\n",
      "5\n",
      "25\n"
     ]
    }
   ],
   "source": [
    "num=eval(input(\"enter the number\"))\n",
    "i=1\n",
    "while i<=num:\n",
    "    if num%i==0:\n",
    "        print(i)\n",
    "    i+=1"
   ]
  },
  {
   "cell_type": "code",
   "execution_count": 6,
   "id": "bc5c3097",
   "metadata": {},
   "outputs": [
    {
     "name": "stdout",
     "output_type": "stream",
     "text": [
      "2432902008176640000\n"
     ]
    }
   ],
   "source": [
    "num=eval(input(\"enter the number\"))\n",
    "i=1\n",
    "fact=num\n",
    "while i<num:\n",
    "    fact=fact*i\n",
    "    i+=1\n",
    "print(fact)"
   ]
  },
  {
   "cell_type": "code",
   "execution_count": 20,
   "id": "712d1cc2",
   "metadata": {},
   "outputs": [
    {
     "name": "stdout",
     "output_type": "stream",
     "text": [
      " prime\n"
     ]
    }
   ],
   "source": [
    "n=eval(input(\"enter the number\"))\n",
    "fact=0\n",
    "i=2\n",
    "\n",
    "while i<n:\n",
    " if n%i==0:\n",
    "    print(\"not prime\")\n",
    "    break\n",
    " i+=1\n",
    "    \n",
    "else:\n",
    "    print(\" prime\")\n"
   ]
  },
  {
   "cell_type": "code",
   "execution_count": null,
   "id": "b18a2052",
   "metadata": {},
   "outputs": [],
   "source": []
  },
  {
   "cell_type": "code",
   "execution_count": 1,
   "id": "b0451b75",
   "metadata": {},
   "outputs": [
    {
     "ename": "ValueError",
     "evalue": "invalid literal for int() with base 10: '56.'",
     "output_type": "error",
     "traceback": [
      "\u001b[31m---------------------------------------------------------------------------\u001b[39m",
      "\u001b[31mValueError\u001b[39m                                Traceback (most recent call last)",
      "\u001b[36mCell\u001b[39m\u001b[36m \u001b[39m\u001b[32mIn[1]\u001b[39m\u001b[32m, line 1\u001b[39m\n\u001b[32m----> \u001b[39m\u001b[32m1\u001b[39m n=\u001b[38;5;28;43mint\u001b[39;49m\u001b[43m(\u001b[49m\u001b[38;5;28;43minput\u001b[39;49m\u001b[43m(\u001b[49m\u001b[33;43m\"\u001b[39;49m\u001b[33;43menter the number\u001b[39;49m\u001b[33;43m\"\u001b[39;49m\u001b[43m)\u001b[49m\u001b[43m)\u001b[49m\n\u001b[32m      2\u001b[39m i=\u001b[32m0\u001b[39m\n\u001b[32m      3\u001b[39m \u001b[38;5;28msum\u001b[39m =\u001b[32m0\u001b[39m\n",
      "\u001b[31mValueError\u001b[39m: invalid literal for int() with base 10: '56.'"
     ]
    }
   ],
   "source": [
    "n=int(input(\"enter the number\"))\n",
    "i=0\n",
    "sum =0\n",
    "while n!=0:\n",
    "    n//=10\n",
    "    i=i+1\n",
    "    n%=10\n",
    "    sum=sum+i\n",
    "    \n",
    "print(i)\n",
    "print(sum)\n"
   ]
  },
  {
   "cell_type": "code",
   "execution_count": 2,
   "id": "62abb5b0",
   "metadata": {},
   "outputs": [
    {
     "name": "stdout",
     "output_type": "stream",
     "text": [
      "Reversed Number: 35\n"
     ]
    }
   ],
   "source": [
    "revnum = 0\n",
    "num = int(input(\"Enter the number to reverse: \"))\n",
    "while num > 0:\n",
    "        val = num % 10\n",
    "        revnum = revnum * 10 + val\n",
    "        num=num//10\n",
    "print(\"Reversed Number:\", revnum)          "
   ]
  },
  {
   "cell_type": "code",
   "execution_count": null,
   "id": "f9534947",
   "metadata": {},
   "outputs": [
    {
     "name": "stdout",
     "output_type": "stream",
     "text": [
      "addition of two Number: 59\n"
     ]
    }
   ],
   "source": [
    "num1 = 0\n",
    "num = int(input(\"Enter the number to reverse: \"))\n",
    "while num > 0:\n",
    "        val = num % 10\n",
    "        num1+=val\n",
    "        num=num//10\n",
    "print(\"addition of two Number:\", num1)  "
   ]
  },
  {
   "cell_type": "code",
   "execution_count": 12,
   "id": "0519fc86",
   "metadata": {},
   "outputs": [
    {
     "ename": "KeyboardInterrupt",
     "evalue": "",
     "output_type": "error",
     "traceback": [
      "\u001b[31m---------------------------------------------------------------------------\u001b[39m",
      "\u001b[31mKeyboardInterrupt\u001b[39m                         Traceback (most recent call last)",
      "\u001b[36mCell\u001b[39m\u001b[36m \u001b[39m\u001b[32mIn[12]\u001b[39m\u001b[32m, line 4\u001b[39m\n\u001b[32m      2\u001b[39m od=\u001b[32m0\u001b[39m\n\u001b[32m      3\u001b[39m ed=\u001b[32m0\u001b[39m\n\u001b[32m----> \u001b[39m\u001b[32m4\u001b[39m \u001b[38;5;28;01mwhile\u001b[39;00m num!=\u001b[32m0\u001b[39m:\n\u001b[32m      5\u001b[39m     check = num % \u001b[32m10\u001b[39m\n\u001b[32m      6\u001b[39m     \u001b[38;5;28;01mif\u001b[39;00m check%\u001b[32m2\u001b[39m==\u001b[32m0\u001b[39m:\n",
      "\u001b[31mKeyboardInterrupt\u001b[39m: "
     ]
    }
   ],
   "source": [
    "num = int(input(\"Enter the number: \"))\n",
    "od=0\n",
    "ed=0\n",
    "while num!=0:\n",
    "    check = num % 10\n",
    "    if check%2==0:\n",
    "        ed+=1\n",
    "    else:\n",
    "         od+=1\n",
    "         num//=10\n",
    "print(ed,od)\n"
   ]
  },
  {
   "cell_type": "code",
   "execution_count": null,
   "id": "6cf4a317",
   "metadata": {},
   "outputs": [
    {
     "name": "stdout",
     "output_type": "stream",
     "text": [
      "56\n"
     ]
    }
   ],
   "source": [
    "nump = int(input(\"Enter the number: \"))\n",
    "fact=0\n",
    "i=2\n",
    "while i<=nump:\n",
    "    if nump%i==0:\n",
    "        print(i)\n",
    "        i+=1\n",
    "    elif nump%i!=0:\n",
    "        print(\"not a prime number\")\n",
    "        break   \n",
    "    else:\n",
    "        print(\"it is a prime number\")   \n",
    "        "
   ]
  },
  {
   "cell_type": "code",
   "execution_count": null,
   "id": "d6cfad07",
   "metadata": {},
   "outputs": [],
   "source": []
  },
  {
   "cell_type": "code",
   "execution_count": 3,
   "id": "8f6ebfea",
   "metadata": {},
   "outputs": [
    {
     "name": "stdout",
     "output_type": "stream",
     "text": [
      "The LCM of 8 and 16 is 16\n"
     ]
    }
   ],
   "source": [
    "#write a program to find the lcm of two numbers\n",
    "num1 = int(input(\"Enter first number: \"))  \n",
    "num2 = int(input(\"Enter second number: \"))\n",
    "if num1 > num2:\n",
    "    greater = num1\n",
    "else:       \n",
    "    greater = num2  \n",
    "while True:\n",
    "    if greater % num1 == 0 and greater % num2 == 0:\n",
    "        lcm = greater\n",
    "        break\n",
    "    greater += 1\n",
    "print(\"The LCM of\", num1, \"and\", num2, \"is\", lcm)"
   ]
  },
  {
   "cell_type": "code",
   "execution_count": 12,
   "id": "1034e06c",
   "metadata": {},
   "outputs": [
    {
     "name": "stdout",
     "output_type": "stream",
     "text": [
      "The HCF of 8 and 12 is 4\n"
     ]
    }
   ],
   "source": [
    "#wap to find the hcf of a number\n",
    "num1 = int(input(\"Enter first number: \"))  \n",
    "num2 = int(input(\"Enter second number: \"))\n",
    "if(num1>num2):\n",
    "    smaller=num1\n",
    "else:\n",
    "    smaller=num2\n",
    "while True:\n",
    "    if num1 % smaller == 0 and num2 % smaller == 0:\n",
    "      hcf=smaller\n",
    "      break\n",
    "    smaller -= 1\n",
    "print(\"The HCF of\", num1, \"and\", num2, \"is\", hcf) "
   ]
  },
  {
   "cell_type": "code",
   "execution_count": null,
   "id": "8c48685b",
   "metadata": {},
   "outputs": [
    {
     "name": "stdout",
     "output_type": "stream",
     "text": [
      "1 3 5 7 9 11 13 15 17 19 "
     ]
    }
   ],
   "source": [
    "#for loop  odd numbers from 1 to 20\n",
    "for i in range(1,21,2):\n",
    "    print(i,end=\" \")"
   ]
  },
  {
   "cell_type": "code",
   "execution_count": null,
   "id": "c7a7d208",
   "metadata": {},
   "outputs": [
    {
     "name": "stdout",
     "output_type": "stream",
     "text": [
      "even sum: 90\n",
      "odd sum: 100\n"
     ]
    }
   ],
   "source": [
    "even=0\n",
    "odd=0\n",
    "for i in range(1,20):\n",
    "  \n",
    "    if i%2==0:\n",
    "        even+=i\n",
    "    else:\n",
    "        odd+=i\n",
    "print(\"even sum:\", even)\n",
    "print(\"odd sum:\", odd)\n"
   ]
  },
  {
   "cell_type": "code",
   "execution_count": null,
   "id": "4511880b",
   "metadata": {},
   "outputs": [],
   "source": []
  }
 ],
 "metadata": {
  "kernelspec": {
   "display_name": "Python 3",
   "language": "python",
   "name": "python3"
  },
  "language_info": {
   "codemirror_mode": {
    "name": "ipython",
    "version": 3
   },
   "file_extension": ".py",
   "mimetype": "text/x-python",
   "name": "python",
   "nbconvert_exporter": "python",
   "pygments_lexer": "ipython3",
   "version": "3.13.2"
  }
 },
 "nbformat": 4,
 "nbformat_minor": 5
}
