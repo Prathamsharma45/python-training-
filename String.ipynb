{
 "cells": [
  {
   "cell_type": "code",
   "execution_count": null,
   "id": "f8b804e7",
   "metadata": {},
   "outputs": [],
   "source": [
    "                                       ###############String Operations##############"
   ]
  },
  {
   "cell_type": "code",
   "execution_count": 1,
   "id": "2294c10c",
   "metadata": {},
   "outputs": [
    {
     "name": "stdout",
     "output_type": "stream",
     "text": [
      "Hello World\n"
     ]
    }
   ],
   "source": [
    "x=\"Hello World\"\n",
    "print(x)  # Output: Hello World"
   ]
  },
  {
   "cell_type": "code",
   "execution_count": 7,
   "id": "b274d32d",
   "metadata": {},
   "outputs": [
    {
     "name": "stdout",
     "output_type": "stream",
     "text": [
      "Hlo\n"
     ]
    }
   ],
   "source": [
    "str1 = \"Hello\"\n",
    "print(str1[0:5:2])  # Output: Hello"
   ]
  },
  {
   "cell_type": "code",
   "execution_count": 22,
   "id": "10866d07",
   "metadata": {},
   "outputs": [
    {
     "name": "stdout",
     "output_type": "stream",
     "text": [
      "nt a t\n",
      "e h\n",
      "n python\n",
      "l'lrph\n",
      "hn\n",
      "on\n"
     ]
    }
   ],
   "source": [
    "str=\"let's learn python\"\n",
    "print(str[::-3])  # Output: lets\n",
    "print(str[7::4])  # Output: let's\n",
    "print(str[10:])  # Output: lts\n",
    "print(str[::3])  # Output: ls\n",
    "print(str[-3:-10:-5])  # Output: lts\n",
    "print(str[-2::])  # Output: lts"
   ]
  },
  {
   "cell_type": "code",
   "execution_count": 26,
   "id": "c8d923dd",
   "metadata": {},
   "outputs": [
    {
     "data": {
      "text/plain": [
       "'Hello world'"
      ]
     },
     "execution_count": 26,
     "metadata": {},
     "output_type": "execute_result"
    }
   ],
   "source": [
    "X=\"Hello World\"\n",
    "x.capitalize() \n",
    "# Output: Hello world"
   ]
  },
  {
   "cell_type": "code",
   "execution_count": 27,
   "id": "25b28ef7",
   "metadata": {},
   "outputs": [
    {
     "name": "stdout",
     "output_type": "stream",
     "text": [
      "['h', 'e', 'l', 'l', 'o', ' ', 'e', 'v', 'e', 'r', 'y', 'o', 'n', 'e']\n"
     ]
    }
   ],
   "source": [
    "str1=\"hello everyone\"\n",
    "x=list(str1)\n",
    "print(x)  # Output: ['h', 'e', 'l', 'l',"
   ]
  },
  {
   "cell_type": "code",
   "execution_count": 28,
   "id": "a5b4cb98",
   "metadata": {},
   "outputs": [
    {
     "name": "stdout",
     "output_type": "stream",
     "text": [
      "['Hello', 'Everyone', \"Let's\", 'Learn', 'Python']\n"
     ]
    }
   ],
   "source": [
    "str1 = \"Hello Everyone Let's Learn Python\"\n",
    "lst=str1.split()\n",
    "print(lst)  # Output: ['Hello', 'Everyone', \"Let's\", 'Learn',"
   ]
  },
  {
   "cell_type": "code",
   "execution_count": 41,
   "id": "614a139d",
   "metadata": {},
   "outputs": [
    {
     "name": "stdout",
     "output_type": "stream",
     "text": [
      "The longest word is: qcnbjdqc\n",
      "Length of the longest word is: 8\n"
     ]
    }
   ],
   "source": [
    "#write a program which will take a string as input and print the longest word in the string\n",
    "\n",
    "x = input(\"Enter a string: \")\n",
    "words = x.split()\n",
    "longest = max(words, key=len)  \n",
    "print(\"The longest word is:\", longest)  # Output: The longest word is: <longest_word>\n",
    "length_of_word = len(longest)\n",
    "print(\"Length of the longest word is:\", length_of_word)  # Output:\n"
   ]
  },
  {
   "cell_type": "code",
   "execution_count": 43,
   "id": "5e6a00a9",
   "metadata": {},
   "outputs": [
    {
     "name": "stdout",
     "output_type": "stream",
     "text": [
      "Hi Everyone Let's Learn Python\n"
     ]
    }
   ],
   "source": [
    "#replace function\n",
    "str1 = \"Hello Everyone Let's Learn Python\"\n",
    "new_str = str1.replace(\"Hello\", \"Hi\")\n",
    "print(new_str)  # Output: Hi Everyone Let's Learn Python"
   ]
  },
  {
   "cell_type": "code",
   "execution_count": 81,
   "id": "84ea8849",
   "metadata": {},
   "outputs": [
    {
     "name": "stdout",
     "output_type": "stream",
     "text": [
      "Hello. Everyone. Let's.Learn. Python\n"
     ]
    }
   ],
   "source": [
    "# wap and take a string  and ,put . and.to,\n",
    "str1 =\"Hello, Everyone. Let's .Learn. Python\"\n",
    "str = str.replace(\"/\",\".\")\n",
    "str = str.replace(\",\",\".\")\n",
    "str = str.replace(\",\",\"/\")\n",
    "print(str)  "
   ]
  },
  {
   "cell_type": "code",
   "execution_count": 78,
   "id": "380f02d2",
   "metadata": {},
   "outputs": [
    {
     "name": "stdout",
     "output_type": "stream",
     "text": [
      "The string is a palindrome\n"
     ]
    }
   ],
   "source": [
    "x=input(\"Enter a string: \")\n",
    "if x==x[::-1]:\n",
    "    print(\"The string is a palindrome\") \n",
    "else:\n",
    "    print(\"The string is not a palindrome\")\n",
    "    "
   ]
  }
 ],
 "metadata": {
  "kernelspec": {
   "display_name": "Python 3",
   "language": "python",
   "name": "python3"
  },
  "language_info": {
   "codemirror_mode": {
    "name": "ipython",
    "version": 3
   },
   "file_extension": ".py",
   "mimetype": "text/x-python",
   "name": "python",
   "nbconvert_exporter": "python",
   "pygments_lexer": "ipython3",
   "version": "3.13.2"
  }
 },
 "nbformat": 4,
 "nbformat_minor": 5
}
