{
 "cells": [
  {
   "cell_type": "code",
   "execution_count": 1,
   "id": "01636d47",
   "metadata": {},
   "outputs": [
    {
     "name": "stdout",
     "output_type": "stream",
     "text": [
      "all sizes are different scalene triangle\n"
     ]
    }
   ],
   "source": [
    "a=eval(input(\"enter the number\"))\n",
    "b=eval(input(\"enter the number\"))\n",
    "c=eval(input(\"enter the number\"))\n",
    "if(a==b==c):\n",
    "    print(\"all are sizes equal equalateral triangle\")\n",
    "elif(a==b or b==c or c==a):\n",
    "    print(\"a and b are equal this an  is isosceles triangle\")\n",
    "else:\n",
    "    print(\"all sizes are different scalene triangle\")"
   ]
  },
  {
   "cell_type": "code",
   "execution_count": null,
   "id": "d4bf0e96",
   "metadata": {},
   "outputs": [
    {
     "name": "stdout",
     "output_type": "stream",
     "text": [
      "it is a triangle\n"
     ]
    }
   ],
   "source": [
    "a=eval(input(\"enter the number\"))\n",
    "b=eval(input(\"enter the number\"))\n",
    "c=eval(input(\"enter the number\"))\n",
    "if a+b>c and a+c>b and b+c>a:\n",
    "    print(\"it is a triangle\")\n",
    "else:\n",
    "    print(\"it is not a triangle\")"
   ]
  },
  {
   "cell_type": "code",
   "execution_count": null,
   "id": "6a1c7e2b",
   "metadata": {},
   "outputs": [],
   "source": [
    "num=eval(input(\"enter the number\"))\n",
    "i=1\n",
    "while i<=num:\n",
    "    if num%i==0:\n",
    "        print(i)\n",
    "    i+=1"
   ]
  },
  {
   "cell_type": "code",
   "execution_count": null,
   "id": "90aa4cee",
   "metadata": {},
   "outputs": [
    {
     "name": "stdout",
     "output_type": "stream",
     "text": [
      "246.9\n"
     ]
    }
   ],
   "source": [
    "unit=eval(input(\"enter the unit\"))\n",
    "if unit <=50:\n",
    "    p=unit*0.50\n",
    "elif unit<=200:\n",
    "    p=50*0.5+(unit-50)*0.75\n",
    "elif unit<450:\n",
    "    p=50*0.5+(unit-50)*0.75+(unit-200)*1.20\n",
    "else :\n",
    "    p=50*0.5+(unit-50)*0.75+(unit-200)*1.20+(unit-450)*1.50\n",
    "fp=p+p*0.20\n",
    "print(fp)\n"
   ]
  },
  {
   "cell_type": "code",
   "execution_count": null,
   "id": "48c5d782",
   "metadata": {},
   "outputs": [
    {
     "name": "stdout",
     "output_type": "stream",
     "text": [
      "570\n"
     ]
    }
   ],
   "source": [
    "k=eval(input(\"enter the number\"))\n",
    "if k<=10:\n",
    "    p=k*11\n",
    "elif k<=100:\n",
    "    p=10*11+(k-10)*10\n",
    "else:\n",
    "    p=10*11+(k-10)*10+(k-100)*9\n",
    "\n",
    "print(p)\n",
    "\n"
   ]
  },
  {
   "cell_type": "code",
   "execution_count": 46,
   "id": "5bf4ab26",
   "metadata": {},
   "outputs": [
    {
     "name": "stdout",
     "output_type": "stream",
     "text": [
      "1081\n"
     ]
    }
   ],
   "source": [
    "i=25\n",
    "sum=0   \n",
    "while(i<=70):\n",
    "   sum=sum+i\n",
    "   i+=2\n",
    "print(sum)"
   ]
  },
  {
   "cell_type": "code",
   "execution_count": null,
   "id": "4189eb1d",
   "metadata": {},
   "outputs": [
    {
     "name": "stdout",
     "output_type": "stream",
     "text": [
      "21\n"
     ]
    }
   ],
   "source": []
  }
 ],
 "metadata": {
  "kernelspec": {
   "display_name": "Python 3",
   "language": "python",
   "name": "python3"
  },
  "language_info": {
   "codemirror_mode": {
    "name": "ipython",
    "version": 3
   },
   "file_extension": ".py",
   "mimetype": "text/x-python",
   "name": "python",
   "nbconvert_exporter": "python",
   "pygments_lexer": "ipython3",
   "version": "3.13.2"
  }
 },
 "nbformat": 4,
 "nbformat_minor": 5
}
