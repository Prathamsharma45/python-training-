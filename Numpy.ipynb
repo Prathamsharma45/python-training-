{
 "cells": [
  {
   "cell_type": "code",
   "execution_count": null,
   "id": "63395257",
   "metadata": {},
   "outputs": [],
   "source": [
    "#Numpy is python library used for working  arrays\n"
   ]
  },
  {
   "cell_type": "code",
   "execution_count": 2,
   "id": "866f9897",
   "metadata": {},
   "outputs": [
    {
     "name": "stdout",
     "output_type": "stream",
     "text": [
      "Requirement already satisfied: numpy in c:\\users\\hp\\appdata\\local\\programs\\python\\python313\\lib\\site-packages (2.3.1)\n"
     ]
    },
    {
     "name": "stderr",
     "output_type": "stream",
     "text": [
      "\n",
      "[notice] A new release of pip is available: 24.3.1 -> 25.1.1\n",
      "[notice] To update, run: python.exe -m pip install --upgrade pip\n"
     ]
    }
   ],
   "source": [
    "! pip install numpy\n"
   ]
  },
  {
   "cell_type": "code",
   "execution_count": 4,
   "id": "cbaf696e",
   "metadata": {},
   "outputs": [],
   "source": [
    "import numpy as np\n"
   ]
  },
  {
   "cell_type": "code",
   "execution_count": 8,
   "id": "8037f9f5",
   "metadata": {},
   "outputs": [
    {
     "name": "stdout",
     "output_type": "stream",
     "text": [
      "<class 'numpy.ndarray'>\n"
     ]
    }
   ],
   "source": [
    "x=np.array([1,3,2,4,5,8,9.5,12])\n",
    "print(type(x))"
   ]
  },
  {
   "cell_type": "code",
   "execution_count": 10,
   "id": "53d33448",
   "metadata": {},
   "outputs": [
    {
     "name": "stdout",
     "output_type": "stream",
     "text": [
      "<class 'numpy.ndarray'>\n"
     ]
    }
   ],
   "source": [
    "x=np.array([1,3,2,4,5,8,95,12])\n",
    "print(type(x))"
   ]
  },
  {
   "cell_type": "code",
   "execution_count": 22,
   "id": "5152b19e",
   "metadata": {},
   "outputs": [
    {
     "name": "stdout",
     "output_type": "stream",
     "text": [
      "[10]\n"
     ]
    }
   ],
   "source": [
    "#arrange method \n",
    "a=np.arange(10,-4,-20)\n",
    "print(a)"
   ]
  },
  {
   "cell_type": "code",
   "execution_count": 24,
   "id": "9336ad00",
   "metadata": {},
   "outputs": [
    {
     "name": "stdout",
     "output_type": "stream",
     "text": [
      "[[0.57655482 0.06954261 0.36019629]\n",
      " [0.45260317 0.59412806 0.01287268]\n",
      " [0.41660274 0.20791724 0.9657414 ]\n",
      " [0.37121902 0.99612005 0.51184672]]\n"
     ]
    }
   ],
   "source": [
    "#random number[)\n",
    "a=np.random.random(size=(4,3))\n",
    "print(a)"
   ]
  },
  {
   "cell_type": "code",
   "execution_count": 12,
   "id": "9a1bab40",
   "metadata": {},
   "outputs": [],
   "source": [
    "import numpy as np\n"
   ]
  },
  {
   "cell_type": "code",
   "execution_count": 18,
   "id": "eaf628b7",
   "metadata": {},
   "outputs": [
    {
     "name": "stdout",
     "output_type": "stream",
     "text": [
      "[22 37 32  5 36  5]\n",
      "[ 84 132 413 254 426 426]\n"
     ]
    }
   ],
   "source": [
    "x1=np.random.randint(50,size=6)\n",
    "x2=np.random.randint(500,size=6)\n",
    "print(x1)\n",
    "print (x2)"
   ]
  },
  {
   "cell_type": "code",
   "execution_count": null,
   "id": "99a0bf63",
   "metadata": {},
   "outputs": [
    {
     "name": "stdout",
     "output_type": "stream",
     "text": [
      "11\n",
      "Dimensions: 0\n"
     ]
    }
   ],
   "source": [
    "arr=np.array(11)\n",
    "print(arr)                            #zero dimension \n",
    "print(\"Dimensions:\",arr.ndim)"
   ]
  },
  {
   "cell_type": "code",
   "execution_count": null,
   "id": "2a269f99",
   "metadata": {},
   "outputs": [
    {
     "name": "stdout",
     "output_type": "stream",
     "text": [
      "[1 2 3 4 5]\n",
      "Dimensions: 1\n"
     ]
    }
   ],
   "source": [
    "arr=np.array([1,2,3,4,5])\n",
    "print(arr)                        #one dimension \n",
    "print(\"Dimensions:\",arr.ndim)"
   ]
  },
  {
   "cell_type": "code",
   "execution_count": null,
   "id": "65a93914",
   "metadata": {},
   "outputs": [
    {
     "name": "stdout",
     "output_type": "stream",
     "text": [
      "[[ 1  2  3  4  5]\n",
      " [ 1  5 55 78  1]]\n",
      "Dimensions: 2\n"
     ]
    }
   ],
   "source": [
    "data=([[1,2,3,4,5],[1,5,55,78,1]])\n",
    "arr=np.array(data)                  #two dimensions \n",
    "print(arr)\n",
    "print(\"Dimensions:\",arr.ndim)\n",
    "\n"
   ]
  },
  {
   "cell_type": "code",
   "execution_count": null,
   "id": "6a428de6",
   "metadata": {},
   "outputs": [
    {
     "name": "stdout",
     "output_type": "stream",
     "text": [
      "[[[ 1  2  3  4  5]\n",
      "  [ 1  5 55 78  1]\n",
      "  [ 8  6  9 12 78]]]\n",
      "Dimensions: 3\n"
     ]
    }
   ],
   "source": [
    "data=([[[1,2,3,4,5],[1,5,55,78,1],[8,6,9,12,78]]])\n",
    "arr=np.array(data)                     #three dimensions\n",
    "print(arr)\n",
    "print(\"Dimensions:\",arr.ndim)"
   ]
  },
  {
   "cell_type": "code",
   "execution_count": 36,
   "id": "bd8f92de",
   "metadata": {},
   "outputs": [
    {
     "name": "stdout",
     "output_type": "stream",
     "text": [
      "[0 1 2 3 4 5 6 7 8 9] [[ 0  1  2  3]\n",
      " [ 4  5  6  7]\n",
      " [ 8  9 10 11]] [[[ 0  1  2]\n",
      "  [ 3  4  5]\n",
      "  [ 6  7  8]\n",
      "  [ 9 10 11]]\n",
      "\n",
      " [[12 13 14]\n",
      "  [15 16 17]\n",
      "  [18 19 20]\n",
      "  [21 22 23]]]\n"
     ]
    }
   ],
   "source": [
    "a1=np.arange(10)\n",
    "a2=np.arange(12).reshape(3,4)\n",
    "a3=np.arange(24).reshape(2,4,3)\n",
    "print(a1,a2,a3)"
   ]
  },
  {
   "cell_type": "code",
   "execution_count": 12,
   "id": "7f009f6e",
   "metadata": {},
   "outputs": [],
   "source": [
    "import numpy as np\n"
   ]
  },
  {
   "cell_type": "code",
   "execution_count": 13,
   "id": "b995ba72",
   "metadata": {},
   "outputs": [
    {
     "name": "stdout",
     "output_type": "stream",
     "text": [
      "[0 1 2 3 4 5 6 7 8 9]\n",
      "[9 8 7 6 5 4 3 2 1 0]\n",
      "[2 4 6 8]\n"
     ]
    }
   ],
   "source": [
    "a1=np.arange(10)\n",
    "print(a1[::]) \n",
    "print(a1[::-1])\n",
    "print(a1[2::2])\n"
   ]
  },
  {
   "cell_type": "code",
   "execution_count": 41,
   "id": "572c6656",
   "metadata": {},
   "outputs": [
    {
     "name": "stdout",
     "output_type": "stream",
     "text": [
      "[[ 4  6]\n",
      " [ 8 10]]\n",
      "[0 1 2 3]\n",
      "[0 4 8]\n",
      "[[ 5  6  7]\n",
      " [ 9 10 11]]\n",
      "[[ 0  2]\n",
      " [ 8 10]]\n",
      "[[ 0  1  2  3]\n",
      " [ 4  5  6  7]\n",
      " [ 8  9 10 11]]\n"
     ]
    }
   ],
   "source": [
    "a2 = np.arange(12).reshape(3, 4)\n",
    "\n",
    "print(a2[1::, ::2])   # rows from index 1, columns with step 2\n",
    "print(a2[0, :])       # first row\n",
    "print(a2[:, 0])       # first column\n",
    "print(a2[1:, 1:])     # rows from index 1, columns from index 1\n",
    "print(a2[::2, ::2])   # every other row and column\n",
    "print(a2)\n",
    "\n",
    "\n",
    "\n"
   ]
  },
  {
   "cell_type": "code",
   "execution_count": 42,
   "id": "7e76e573",
   "metadata": {},
   "outputs": [
    {
     "data": {
      "text/plain": [
       "array([[[ 0,  1,  2],\n",
       "        [ 3,  4,  5],\n",
       "        [ 6,  7,  8],\n",
       "        [ 9, 10, 11]],\n",
       "\n",
       "       [[12, 13, 14],\n",
       "        [15, 16, 17],\n",
       "        [18, 19, 20],\n",
       "        [21, 22, 23]]])"
      ]
     },
     "execution_count": 42,
     "metadata": {},
     "output_type": "execute_result"
    }
   ],
   "source": [
    "a3=np.arange(24).reshape(2,4,3)\n",
    "a3"
   ]
  },
  {
   "cell_type": "code",
   "execution_count": null,
   "id": "f7624008",
   "metadata": {},
   "outputs": [
    {
     "name": "stdout",
     "output_type": "stream",
     "text": [
      "[[15 17]\n",
      " [21 23]]\n",
      "[[ 0  1  2]\n",
      " [ 3  4  5]\n",
      " [ 6  7  8]\n",
      " [ 9 10 11]]\n",
      "[0 1 2]\n",
      "[[12 13 14]\n",
      " [15 16 17]\n",
      " [18 19 20]]\n",
      "[[[ 0  2]\n",
      "  [ 9 11]]\n",
      "\n",
      " [[12 14]\n",
      "  [21 23]]]\n"
     ]
    }
   ],
   "source": [
    "print(a3[1,1::2,::2])\n",
    "print(a3[0])\n",
    "print(a3[0,0])\n",
    "print(a3[1,:3])\n",
    "print(a3[:,::3,::2])\n",
    "print(a3[::-2])\n"
   ]
  },
  {
   "cell_type": "code",
   "execution_count": 75,
   "id": "63cd0b34",
   "metadata": {},
   "outputs": [
    {
     "name": "stdout",
     "output_type": "stream",
     "text": [
      "int64\n",
      "float64\n",
      "8\n",
      "8\n",
      "32\n",
      "32\n"
     ]
    }
   ],
   "source": [
    "a1=np.array([1,2,3,5])\n",
    "a2=np.array([1.2,8.5,7,8])\n",
    "print(a1.dtype)\n",
    "print(a2.dtype)\n",
    "print(a1.itemsize)\n",
    "print(a2.itemsize)\n",
    "print(a1.nbytes)\n",
    "print(a2.nbytes)\n"
   ]
  },
  {
   "cell_type": "code",
   "execution_count": 76,
   "id": "d07160f6",
   "metadata": {},
   "outputs": [
    {
     "name": "stdout",
     "output_type": "stream",
     "text": [
      "1\n",
      "1\n",
      "(4,)\n",
      "(4,)\n",
      "4\n",
      "4\n"
     ]
    }
   ],
   "source": [
    "a1=np.array([1,2,3,5])\n",
    "a2=np.array([1.2,8.5,7,8])\n",
    "print(a1.ndim)\n",
    "print(a2.ndim)\n",
    "print(a1.shape)\n",
    "print(a2.shape)\n",
    "print(a1.size)\n",
    "print(a2.size)\n"
   ]
  },
  {
   "cell_type": "code",
   "execution_count": 77,
   "id": "7f1fb531",
   "metadata": {},
   "outputs": [
    {
     "name": "stdout",
     "output_type": "stream",
     "text": [
      "[0. 0. 0. 0. 0. 0. 0. 0. 0. 0.]\n",
      "\n",
      "[[0 0 0 0 0 0]\n",
      " [0 0 0 0 0 0]\n",
      " [0 0 0 0 0 0]]\n",
      "\n",
      "[[[0. 0.]\n",
      "  [0. 0.]\n",
      "  [0. 0.]]\n",
      "\n",
      " [[0. 0.]\n",
      "  [0. 0.]\n",
      "  [0. 0.]]]\n",
      "\n"
     ]
    }
   ],
   "source": [
    "#np.zeroes\n",
    "print(np.zeros(10))\n",
    "print()\n",
    "print(np.zeros((3,6),dtype=\"int\"))\n",
    "print()\n",
    "print(np.zeros((2,3,2)))\n",
    "print()"
   ]
  },
  {
   "cell_type": "code",
   "execution_count": 78,
   "id": "43052b76",
   "metadata": {},
   "outputs": [
    {
     "data": {
      "text/plain": [
       "array([[1, 0, 0, 0],\n",
       "       [0, 1, 0, 0],\n",
       "       [0, 0, 1, 0],\n",
       "       [0, 0, 0, 1]], dtype=int32)"
      ]
     },
     "execution_count": 78,
     "metadata": {},
     "output_type": "execute_result"
    }
   ],
   "source": [
    "#identity matrics\n",
    "np.identity(4,dtype=\"int32\")"
   ]
  },
  {
   "cell_type": "code",
   "execution_count": null,
   "id": "5fa2c2e1",
   "metadata": {},
   "outputs": [],
   "source": [
    "#Arthematical operation using numpy\n",
    "#Scalar vector \n"
   ]
  },
  {
   "cell_type": "code",
   "execution_count": 5,
   "id": "b121674f",
   "metadata": {},
   "outputs": [
    {
     "name": "stdout",
     "output_type": "stream",
     "text": [
      "[1 2 5 9]\n",
      "[2 5 9 7]\n",
      "[ 6  7 10 14]\n",
      "[1 4 8 6]\n",
      "[ 3  6 15 27]\n",
      "[ 8 20 36 28]\n",
      "[1 0 1 1]\n",
      "[0 1 2 4]\n"
     ]
    }
   ],
   "source": [
    "import numpy as np\n",
    "a1=np.array([1,2,5,9])\n",
    "b1=np.array([2,5,9,7])\n",
    "print(a1)\n",
    "print(b1)\n",
    "print(a1+5)\n",
    "print(b1-1)\n",
    "print(a1*3)\n",
    "print(b1*4)\n",
    "print(a1%2)\n",
    "print(a1//2)"
   ]
  },
  {
   "cell_type": "code",
   "execution_count": null,
   "id": "db919bbb",
   "metadata": {},
   "outputs": [],
   "source": [
    "#vector array creation "
   ]
  },
  {
   "cell_type": "code",
   "execution_count": 7,
   "id": "9b325a60",
   "metadata": {},
   "outputs": [
    {
     "name": "stdout",
     "output_type": "stream",
     "text": [
      "[ 3  7 14 16]\n",
      "[-1 -3 -4  2]\n",
      "[ 2 10 45 63]\n",
      "[0.5        0.4        0.55555556 1.28571429]\n",
      "[0 0 0 1]\n",
      "[      1      32 1953125 4782969]\n",
      "[1 2 5 2]\n"
     ]
    }
   ],
   "source": [
    "print(a1+b1)\n",
    "print(a1-b1)\n",
    "print(a1*b1)\n",
    "print(a1/b1)\n",
    "print(a1//b1)\n",
    "print(a1**b1)\n",
    "print(a1%b1)"
   ]
  },
  {
   "cell_type": "code",
   "execution_count": 12,
   "id": "7f724bf5",
   "metadata": {},
   "outputs": [
    {
     "name": "stdout",
     "output_type": "stream",
     "text": [
      "211\n"
     ]
    }
   ],
   "source": [
    "#Dot product \n",
    "a1=np.array([5,8,9,10])\n",
    "a2=np.array([5,3,8,9])\n",
    "\n",
    "print(np.dot(a1,a2))"
   ]
  },
  {
   "cell_type": "code",
   "execution_count": 17,
   "id": "53d1879c",
   "metadata": {},
   "outputs": [
    {
     "name": "stdout",
     "output_type": "stream",
     "text": [
      "[[ 42  48  54]\n",
      " [114 136 158]\n",
      " [186 224 262]]\n"
     ]
    }
   ],
   "source": [
    "a1=np.arange(12).reshape(3,4)\n",
    "a2=np.arange(12).reshape(4,3)\n",
    "print(np.dot(a1,a2))\n"
   ]
  },
  {
   "cell_type": "code",
   "execution_count": 27,
   "id": "491b06e9",
   "metadata": {},
   "outputs": [
    {
     "name": "stdout",
     "output_type": "stream",
     "text": [
      "5.5\n",
      "[4. 5. 6. 7.]\n",
      "[1.5 5.5 9.5]\n",
      "\n",
      "\n",
      "0\n",
      "[0 1 2 3]\n",
      "[0 4 8]\n",
      "\n",
      "\n",
      "11\n",
      "[ 8  9 10 11]\n",
      "[ 3  7 11]\n",
      "\n",
      "\n",
      "11.916666666666666\n",
      "[10.66666667 10.66666667 10.66666667 10.66666667]\n",
      "[1.25 1.25 1.25]\n",
      "\n",
      "\n",
      "66\n",
      "[12 15 18 21]\n",
      "[ 6 22 38]\n"
     ]
    }
   ],
   "source": [
    "a1=np.arange(12).reshape(3,4)\n",
    "print(np.mean(a1))\n",
    "print(np.mean(a1,axis=0))\n",
    "print(np.mean(a1,axis=1))\n",
    "print()\n",
    "print()\n",
    "print(np.min(a1))\n",
    "print(np.min(a1,axis=0))\n",
    "print(np.min(a1,axis=1))\n",
    "print()\n",
    "print()\n",
    "print(np.max(a1))\n",
    "print(np.max(a1,axis=0))\n",
    "print(np.max(a1,axis=1))\n",
    "print()\n",
    "print()\n",
    "print(np.var(a1))\n",
    "print(np.var(a1,axis=0))\n",
    "print(np.var(a1,axis=1))\n",
    "print()\n",
    "print()\n",
    "print(np.sum(a1))\n",
    "print(np.sum(a1,axis=0))\n",
    "print(np.sum(a1,axis=1))\n"
   ]
  },
  {
   "cell_type": "code",
   "execution_count": null,
   "id": "b599ad3b",
   "metadata": {},
   "outputs": [],
   "source": [
    "a1=np.arange(12).reshape(3,4)\n",
    "print(np.mean(a1))\n",
    "print(np.mean(a1,axis=0))\n",
    "print(np.mean(a1,axis=1))"
   ]
  },
  {
   "cell_type": "code",
   "execution_count": null,
   "id": "d39788e8",
   "metadata": {},
   "outputs": [],
   "source": [
    "a1=np.arange(12).reshape(3,4)\n",
    "print(np.min(a1))\n",
    "print(np.min(a1,axis=0))\n",
    "print(np.min(a1,axis=1))"
   ]
  },
  {
   "cell_type": "code",
   "execution_count": 30,
   "id": "648a638e",
   "metadata": {},
   "outputs": [
    {
     "name": "stdout",
     "output_type": "stream",
     "text": [
      "11\n",
      "[ 8  9 10 11]\n",
      "[ 3  7 11]\n"
     ]
    }
   ],
   "source": [
    "a1=np.arange(12).reshape(3,4)\n",
    "print(np.max(a1))\n",
    "print(np.max(a1,axis=0))\n",
    "print(np.max(a1,axis=1))"
   ]
  },
  {
   "cell_type": "code",
   "execution_count": 29,
   "id": "69185c0d",
   "metadata": {},
   "outputs": [
    {
     "name": "stdout",
     "output_type": "stream",
     "text": [
      "11.916666666666666\n",
      "[10.66666667 10.66666667 10.66666667 10.66666667]\n",
      "[1.25 1.25 1.25]\n"
     ]
    }
   ],
   "source": [
    "a1=np.arange(12).reshape(3,4)\n",
    "print(np.var(a1))\n",
    "print(np.var(a1,axis=0))\n",
    "print(np.var(a1,axis=1))"
   ]
  },
  {
   "cell_type": "code",
   "execution_count": 28,
   "id": "ae9d1fe2",
   "metadata": {},
   "outputs": [
    {
     "name": "stdout",
     "output_type": "stream",
     "text": [
      "66\n",
      "[12 15 18 21]\n",
      "[ 6 22 38]\n"
     ]
    }
   ],
   "source": [
    "a1=np.arange(12).reshape(3,4)\n",
    "print(np.sum(a1))\n",
    "print(np.sum(a1,axis=0))\n",
    "print(np.sum(a1,axis=1))"
   ]
  },
  {
   "cell_type": "code",
   "execution_count": null,
   "id": "400d1f30",
   "metadata": {},
   "outputs": [],
   "source": []
  },
  {
   "cell_type": "code",
   "execution_count": 36,
   "id": "cb1d60cf",
   "metadata": {},
   "outputs": [
    {
     "name": "stdout",
     "output_type": "stream",
     "text": [
      "\n",
      "25 percentile 2.75\n",
      "50 percentile 5.5\n",
      "75 percentile 8.25\n",
      "100 percentile 11.0\n"
     ]
    }
   ],
   "source": [
    "#percentile in numpy\n",
    "import numpy as np\n",
    "x=np.arange(12).reshape(3,4)\n",
    "p25=np.percentile(x,25)\n",
    "p50=np.percentile(x,50)\n",
    "p75=np.percentile(x,75)\n",
    "p100=np.percentile(x,100)\n",
    "print()\n",
    "print(\"25 percentile\",p25)\n",
    "print(\"50 percentile\",p50)\n",
    "print(\"75 percentile\",p75)\n",
    "print(\"100 percentile\",p100)\n",
    "\n"
   ]
  },
  {
   "cell_type": "code",
   "execution_count": 37,
   "id": "3905ce0a",
   "metadata": {},
   "outputs": [
    {
     "name": "stdout",
     "output_type": "stream",
     "text": [
      "245784156"
     ]
    }
   ],
   "source": [
    "#iterating through an array\n",
    "a1=np.array([2,4,5,7,8,4,1,5,6])\n",
    "for i in a1:\n",
    "    print(i,end=\"\")"
   ]
  },
  {
   "cell_type": "code",
   "execution_count": 42,
   "id": "c8e3f314",
   "metadata": {},
   "outputs": [
    {
     "name": "stdout",
     "output_type": "stream",
     "text": [
      "[0 1 2 3 4]\n",
      "[5 6 7 8 9]\n",
      "[10 11 12 13 14]\n",
      "[15 16 17 18 19]\n"
     ]
    }
   ],
   "source": [
    "#2d array\n",
    "a2=np.arange(20).reshape(4,5)\n",
    "for i in a2:\n",
    "    print(i)"
   ]
  },
  {
   "cell_type": "code",
   "execution_count": 41,
   "id": "9258b36c",
   "metadata": {},
   "outputs": [
    {
     "name": "stdout",
     "output_type": "stream",
     "text": [
      "0\n",
      "1\n",
      "2\n",
      "3\n",
      "4\n",
      "5\n",
      "6\n",
      "7\n",
      "8\n",
      "9\n",
      "10\n",
      "11\n",
      "12\n",
      "13\n",
      "14\n",
      "15\n",
      "16\n",
      "17\n",
      "18\n",
      "19\n"
     ]
    }
   ],
   "source": [
    "a2=np.arange(20).reshape(4,5)\n",
    "for i in a2:\n",
    "    for j in i:\n",
    "        print(j)"
   ]
  },
  {
   "cell_type": "code",
   "execution_count": null,
   "id": "4134767a",
   "metadata": {},
   "outputs": [
    {
     "name": "stdout",
     "output_type": "stream",
     "text": [
      "[[ 0  1  2  3  4]\n",
      " [ 5  6  7  8  9]\n",
      " [10 11 12 13 14]\n",
      " [15 16 17 18 19]]\n",
      "[0 1 2 3 4]\n",
      "[5 6 7 8 9]\n",
      "[10 11 12 13 14]\n",
      "[15 16 17 18 19]\n"
     ]
    }
   ],
   "source": [
    "#2d array\n",
    "a2=np.arange(20).reshape(4,5)\n",
    "print(a2)\n",
    "a2[0]\n",
    "for i in range()\n",
    "    print(i)\n",
    "    "
   ]
  }
 ],
 "metadata": {
  "kernelspec": {
   "display_name": "Python 3",
   "language": "python",
   "name": "python3"
  },
  "language_info": {
   "codemirror_mode": {
    "name": "ipython",
    "version": 3
   },
   "file_extension": ".py",
   "mimetype": "text/x-python",
   "name": "python",
   "nbconvert_exporter": "python",
   "pygments_lexer": "ipython3",
   "version": "3.13.2"
  }
 },
 "nbformat": 4,
 "nbformat_minor": 5
}
