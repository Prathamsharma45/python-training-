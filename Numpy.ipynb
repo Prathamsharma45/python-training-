{
 "cells": [
  {
   "cell_type": "code",
   "execution_count": null,
   "id": "63395257",
   "metadata": {},
   "outputs": [],
   "source": [
    "#Numpy is python library used for working  arrays\n"
   ]
  },
  {
   "cell_type": "code",
   "execution_count": 2,
   "id": "866f9897",
   "metadata": {},
   "outputs": [
    {
     "name": "stdout",
     "output_type": "stream",
     "text": [
      "Requirement already satisfied: numpy in c:\\users\\hp\\appdata\\local\\programs\\python\\python313\\lib\\site-packages (2.3.1)\n"
     ]
    },
    {
     "name": "stderr",
     "output_type": "stream",
     "text": [
      "\n",
      "[notice] A new release of pip is available: 24.3.1 -> 25.1.1\n",
      "[notice] To update, run: python.exe -m pip install --upgrade pip\n"
     ]
    }
   ],
   "source": [
    "! pip install numpy\n"
   ]
  },
  {
   "cell_type": "code",
   "execution_count": 4,
   "id": "cbaf696e",
   "metadata": {},
   "outputs": [],
   "source": [
    "import numpy as np\n"
   ]
  },
  {
   "cell_type": "code",
   "execution_count": 8,
   "id": "8037f9f5",
   "metadata": {},
   "outputs": [
    {
     "name": "stdout",
     "output_type": "stream",
     "text": [
      "<class 'numpy.ndarray'>\n"
     ]
    }
   ],
   "source": [
    "x=np.array([1,3,2,4,5,8,9.5,12])\n",
    "print(type(x))"
   ]
  },
  {
   "cell_type": "code",
   "execution_count": 10,
   "id": "53d33448",
   "metadata": {},
   "outputs": [
    {
     "name": "stdout",
     "output_type": "stream",
     "text": [
      "<class 'numpy.ndarray'>\n"
     ]
    }
   ],
   "source": [
    "x=np.array([1,3,2,4,5,8,95,12])\n",
    "print(type(x))"
   ]
  },
  {
   "cell_type": "code",
   "execution_count": 22,
   "id": "5152b19e",
   "metadata": {},
   "outputs": [
    {
     "name": "stdout",
     "output_type": "stream",
     "text": [
      "[10]\n"
     ]
    }
   ],
   "source": [
    "#arrange method \n",
    "a=np.arange(10,-4,-20)\n",
    "print(a)"
   ]
  },
  {
   "cell_type": "code",
   "execution_count": 24,
   "id": "9336ad00",
   "metadata": {},
   "outputs": [
    {
     "name": "stdout",
     "output_type": "stream",
     "text": [
      "[[0.57655482 0.06954261 0.36019629]\n",
      " [0.45260317 0.59412806 0.01287268]\n",
      " [0.41660274 0.20791724 0.9657414 ]\n",
      " [0.37121902 0.99612005 0.51184672]]\n"
     ]
    }
   ],
   "source": [
    "#random number[)\n",
    "a=np.random.random(size=(4,3))\n",
    "print(a)"
   ]
  },
  {
   "cell_type": "code",
   "execution_count": 12,
   "id": "9a1bab40",
   "metadata": {},
   "outputs": [],
   "source": [
    "import numpy as np\n"
   ]
  },
  {
   "cell_type": "code",
   "execution_count": 18,
   "id": "eaf628b7",
   "metadata": {},
   "outputs": [
    {
     "name": "stdout",
     "output_type": "stream",
     "text": [
      "[22 37 32  5 36  5]\n",
      "[ 84 132 413 254 426 426]\n"
     ]
    }
   ],
   "source": [
    "x1=np.random.randint(50,size=6)\n",
    "x2=np.random.randint(500,size=6)\n",
    "print(x1)\n",
    "print (x2)"
   ]
  },
  {
   "cell_type": "code",
   "execution_count": null,
   "id": "99a0bf63",
   "metadata": {},
   "outputs": [
    {
     "name": "stdout",
     "output_type": "stream",
     "text": [
      "11\n",
      "Dimensions: 0\n"
     ]
    }
   ],
   "source": [
    "arr=np.array(11)\n",
    "print(arr)                            #zero dimension \n",
    "print(\"Dimensions:\",arr.ndim)"
   ]
  },
  {
   "cell_type": "code",
   "execution_count": null,
   "id": "2a269f99",
   "metadata": {},
   "outputs": [
    {
     "name": "stdout",
     "output_type": "stream",
     "text": [
      "[1 2 3 4 5]\n",
      "Dimensions: 1\n"
     ]
    }
   ],
   "source": [
    "arr=np.array([1,2,3,4,5])\n",
    "print(arr)                        #one dimension \n",
    "print(\"Dimensions:\",arr.ndim)"
   ]
  },
  {
   "cell_type": "code",
   "execution_count": null,
   "id": "65a93914",
   "metadata": {},
   "outputs": [
    {
     "name": "stdout",
     "output_type": "stream",
     "text": [
      "[[ 1  2  3  4  5]\n",
      " [ 1  5 55 78  1]]\n",
      "Dimensions: 2\n"
     ]
    }
   ],
   "source": [
    "data=([[1,2,3,4,5],[1,5,55,78,1]])\n",
    "arr=np.array(data)                  #two dimensions \n",
    "print(arr)\n",
    "print(\"Dimensions:\",arr.ndim)\n",
    "\n"
   ]
  },
  {
   "cell_type": "code",
   "execution_count": null,
   "id": "6a428de6",
   "metadata": {},
   "outputs": [
    {
     "name": "stdout",
     "output_type": "stream",
     "text": [
      "[[[ 1  2  3  4  5]\n",
      "  [ 1  5 55 78  1]\n",
      "  [ 8  6  9 12 78]]]\n",
      "Dimensions: 3\n"
     ]
    }
   ],
   "source": [
    "data=([[[1,2,3,4,5],[1,5,55,78,1],[8,6,9,12,78]]])\n",
    "arr=np.array(data)                     #three dimensions\n",
    "print(arr)\n",
    "print(\"Dimensions:\",arr.ndim)"
   ]
  },
  {
   "cell_type": "code",
   "execution_count": 36,
   "id": "bd8f92de",
   "metadata": {},
   "outputs": [
    {
     "name": "stdout",
     "output_type": "stream",
     "text": [
      "[0 1 2 3 4 5 6 7 8 9] [[ 0  1  2  3]\n",
      " [ 4  5  6  7]\n",
      " [ 8  9 10 11]] [[[ 0  1  2]\n",
      "  [ 3  4  5]\n",
      "  [ 6  7  8]\n",
      "  [ 9 10 11]]\n",
      "\n",
      " [[12 13 14]\n",
      "  [15 16 17]\n",
      "  [18 19 20]\n",
      "  [21 22 23]]]\n"
     ]
    }
   ],
   "source": [
    "a1=np.arange(10)\n",
    "a2=np.arange(12).reshape(3,4)\n",
    "a3=np.arange(24).reshape(2,4,3)\n",
    "print(a1,a2,a3)"
   ]
  },
  {
   "cell_type": "code",
   "execution_count": 12,
   "id": "7f009f6e",
   "metadata": {},
   "outputs": [],
   "source": [
    "import numpy as np\n"
   ]
  },
  {
   "cell_type": "code",
   "execution_count": 13,
   "id": "b995ba72",
   "metadata": {},
   "outputs": [
    {
     "name": "stdout",
     "output_type": "stream",
     "text": [
      "[0 1 2 3 4 5 6 7 8 9]\n",
      "[9 8 7 6 5 4 3 2 1 0]\n",
      "[2 4 6 8]\n"
     ]
    }
   ],
   "source": [
    "a1=np.arange(10)\n",
    "print(a1[::]) \n",
    "print(a1[::-1])\n",
    "print(a1[2::2])\n"
   ]
  },
  {
   "cell_type": "code",
   "execution_count": 41,
   "id": "572c6656",
   "metadata": {},
   "outputs": [
    {
     "name": "stdout",
     "output_type": "stream",
     "text": [
      "[[ 4  6]\n",
      " [ 8 10]]\n",
      "[0 1 2 3]\n",
      "[0 4 8]\n",
      "[[ 5  6  7]\n",
      " [ 9 10 11]]\n",
      "[[ 0  2]\n",
      " [ 8 10]]\n",
      "[[ 0  1  2  3]\n",
      " [ 4  5  6  7]\n",
      " [ 8  9 10 11]]\n"
     ]
    }
   ],
   "source": [
    "a2 = np.arange(12).reshape(3, 4)\n",
    "\n",
    "print(a2[1::, ::2])   # rows from index 1, columns with step 2\n",
    "print(a2[0, :])       # first row\n",
    "print(a2[:, 0])       # first column\n",
    "print(a2[1:, 1:])     # rows from index 1, columns from index 1\n",
    "print(a2[::2, ::2])   # every other row and column\n",
    "print(a2)\n",
    "\n",
    "\n",
    "\n"
   ]
  },
  {
   "cell_type": "code",
   "execution_count": 42,
   "id": "7e76e573",
   "metadata": {},
   "outputs": [
    {
     "data": {
      "text/plain": [
       "array([[[ 0,  1,  2],\n",
       "        [ 3,  4,  5],\n",
       "        [ 6,  7,  8],\n",
       "        [ 9, 10, 11]],\n",
       "\n",
       "       [[12, 13, 14],\n",
       "        [15, 16, 17],\n",
       "        [18, 19, 20],\n",
       "        [21, 22, 23]]])"
      ]
     },
     "execution_count": 42,
     "metadata": {},
     "output_type": "execute_result"
    }
   ],
   "source": [
    "a3=np.arange(24).reshape(2,4,3)\n",
    "a3"
   ]
  },
  {
   "cell_type": "code",
   "execution_count": null,
   "id": "f7624008",
   "metadata": {},
   "outputs": [
    {
     "name": "stdout",
     "output_type": "stream",
     "text": [
      "[[15 17]\n",
      " [21 23]]\n",
      "[[ 0  1  2]\n",
      " [ 3  4  5]\n",
      " [ 6  7  8]\n",
      " [ 9 10 11]]\n",
      "[0 1 2]\n",
      "[[12 13 14]\n",
      " [15 16 17]\n",
      " [18 19 20]]\n",
      "[[[ 0  2]\n",
      "  [ 9 11]]\n",
      "\n",
      " [[12 14]\n",
      "  [21 23]]]\n"
     ]
    }
   ],
   "source": [
    "print(a3[1,1::2,::2])\n",
    "print(a3[0])\n",
    "print(a3[0,0])\n",
    "print(a3[1,:3])\n",
    "print(a3[:,::3,::2])\n",
    "print(a3[::-2])\n"
   ]
  },
  {
   "cell_type": "code",
   "execution_count": 75,
   "id": "63cd0b34",
   "metadata": {},
   "outputs": [
    {
     "name": "stdout",
     "output_type": "stream",
     "text": [
      "int64\n",
      "float64\n",
      "8\n",
      "8\n",
      "32\n",
      "32\n"
     ]
    }
   ],
   "source": [
    "a1=np.array([1,2,3,5])\n",
    "a2=np.array([1.2,8.5,7,8])\n",
    "print(a1.dtype)\n",
    "print(a2.dtype)\n",
    "print(a1.itemsize)\n",
    "print(a2.itemsize)\n",
    "print(a1.nbytes)\n",
    "print(a2.nbytes)\n"
   ]
  },
  {
   "cell_type": "code",
   "execution_count": 76,
   "id": "d07160f6",
   "metadata": {},
   "outputs": [
    {
     "name": "stdout",
     "output_type": "stream",
     "text": [
      "1\n",
      "1\n",
      "(4,)\n",
      "(4,)\n",
      "4\n",
      "4\n"
     ]
    }
   ],
   "source": [
    "a1=np.array([1,2,3,5])\n",
    "a2=np.array([1.2,8.5,7,8])\n",
    "print(a1.ndim)\n",
    "print(a2.ndim)\n",
    "print(a1.shape)\n",
    "print(a2.shape)\n",
    "print(a1.size)\n",
    "print(a2.size)\n"
   ]
  },
  {
   "cell_type": "code",
   "execution_count": 77,
   "id": "7f1fb531",
   "metadata": {},
   "outputs": [
    {
     "name": "stdout",
     "output_type": "stream",
     "text": [
      "[0. 0. 0. 0. 0. 0. 0. 0. 0. 0.]\n",
      "\n",
      "[[0 0 0 0 0 0]\n",
      " [0 0 0 0 0 0]\n",
      " [0 0 0 0 0 0]]\n",
      "\n",
      "[[[0. 0.]\n",
      "  [0. 0.]\n",
      "  [0. 0.]]\n",
      "\n",
      " [[0. 0.]\n",
      "  [0. 0.]\n",
      "  [0. 0.]]]\n",
      "\n"
     ]
    }
   ],
   "source": [
    "#np.zeroes\n",
    "print(np.zeros(10))\n",
    "print()\n",
    "print(np.zeros((3,6),dtype=\"int\"))\n",
    "print()\n",
    "print(np.zeros((2,3,2)))\n",
    "print()"
   ]
  },
  {
   "cell_type": "code",
   "execution_count": 78,
   "id": "43052b76",
   "metadata": {},
   "outputs": [
    {
     "data": {
      "text/plain": [
       "array([[1, 0, 0, 0],\n",
       "       [0, 1, 0, 0],\n",
       "       [0, 0, 1, 0],\n",
       "       [0, 0, 0, 1]], dtype=int32)"
      ]
     },
     "execution_count": 78,
     "metadata": {},
     "output_type": "execute_result"
    }
   ],
   "source": [
    "#identity matrics\n",
    "np.identity(4,dtype=\"int32\")"
   ]
  }
 ],
 "metadata": {
  "kernelspec": {
   "display_name": "Python 3",
   "language": "python",
   "name": "python3"
  },
  "language_info": {
   "codemirror_mode": {
    "name": "ipython",
    "version": 3
   },
   "file_extension": ".py",
   "mimetype": "text/x-python",
   "name": "python",
   "nbconvert_exporter": "python",
   "pygments_lexer": "ipython3",
   "version": "3.13.2"
  }
 },
 "nbformat": 4,
 "nbformat_minor": 5
}
