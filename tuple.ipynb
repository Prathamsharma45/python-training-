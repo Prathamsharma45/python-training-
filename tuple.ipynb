{
 "cells": [
  {
   "cell_type": "code",
   "execution_count": null,
   "id": "449e4028",
   "metadata": {},
   "outputs": [],
   "source": [
    "#tuple is imimutable`\n",
    "# tuple is a collection of items\n",
    "# tuple is a collection of items that are ordered and unchangeable  \n",
    "`"
   ]
  },
  {
   "cell_type": "code",
   "execution_count": 3,
   "id": "419389e8",
   "metadata": {},
   "outputs": [
    {
     "name": "stdout",
     "output_type": "stream",
     "text": [
      "(10, 25, 30, 40, 50, 60, 70, 80, 90, 100)\n"
     ]
    }
   ],
   "source": [
    "tpl=(10,25,30,40,50,60,70,80,90,100)\n",
    "print(tpl)\n"
   ]
  },
  {
   "cell_type": "code",
   "execution_count": 5,
   "id": "41edf218",
   "metadata": {},
   "outputs": [
    {
     "name": "stdout",
     "output_type": "stream",
     "text": [
      "5\n"
     ]
    },
    {
     "data": {
      "text/plain": [
       "int"
      ]
     },
     "execution_count": 5,
     "metadata": {},
     "output_type": "execute_result"
    }
   ],
   "source": [
    "tpl1=(5)\n",
    "\n",
    "print(tpl1)\n",
    "type(tpl1)"
   ]
  },
  {
   "cell_type": "code",
   "execution_count": 10,
   "id": "277ae274",
   "metadata": {},
   "outputs": [
    {
     "data": {
      "text/plain": [
       "2"
      ]
     },
     "execution_count": 10,
     "metadata": {},
     "output_type": "execute_result"
    }
   ],
   "source": [
    "tpl=(10,25,30,40,50,60,70,80,90,100)\n",
    "tpl.index(30)  # returns the index of the first occurrence of the specified value\n"
   ]
  },
  {
   "cell_type": "code",
   "execution_count": 13,
   "id": "c1cade69",
   "metadata": {},
   "outputs": [
    {
     "data": {
      "text/plain": [
       "3"
      ]
     },
     "execution_count": 13,
     "metadata": {},
     "output_type": "execute_result"
    }
   ],
   "source": [
    "tpl= (1,2,3,4,5,5,5,6,7,8,9,10)\n",
    "tpl.count(5)  # returns the number of times a specified value occurs in a tuple"
   ]
  },
  {
   "cell_type": "code",
   "execution_count": 16,
   "id": "4ca4bd28",
   "metadata": {},
   "outputs": [
    {
     "name": "stdout",
     "output_type": "stream",
     "text": [
      "3014704516160\n",
      "3014705722240\n"
     ]
    }
   ],
   "source": [
    "tpl= (1,2,3,4,5,6,7,8,9,10)\n",
    "print (id(tpl))  # returns the identity of an object, which is unique and constant for this object during its lifetime\n",
    "tpl+= (11,12,13,14,15)  # concatenation of tuples\n",
    "print (id(tpl))  # the identity of the object has changed after concatenation"
   ]
  },
  {
   "cell_type": "code",
   "execution_count": 39,
   "id": "56980ffa",
   "metadata": {},
   "outputs": [
    {
     "name": "stdout",
     "output_type": "stream",
     "text": [
      "(1, 3, 5, 7, 9)\n"
     ]
    }
   ],
   "source": [
    "x = (1, 2, 3, 4, 5,84,56,7,8,9,10)\n",
    "lst=[i for i in x if i%2!=0 ] \n",
    "x=tuple(lst)\n",
    "print(x)  # Output: (1, 3, 5)\n",
    "\n",
    "\n",
    "\n"
   ]
  }
 ],
 "metadata": {
  "kernelspec": {
   "display_name": "Python 3",
   "language": "python",
   "name": "python3"
  },
  "language_info": {
   "codemirror_mode": {
    "name": "ipython",
    "version": 3
   },
   "file_extension": ".py",
   "mimetype": "text/x-python",
   "name": "python",
   "nbconvert_exporter": "python",
   "pygments_lexer": "ipython3",
   "version": "3.13.2"
  }
 },
 "nbformat": 4,
 "nbformat_minor": 5
}
